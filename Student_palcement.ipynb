{
 "cells": [
  {
   "cell_type": "code",
   "execution_count": 1,
   "id": "c97fd4f4",
   "metadata": {},
   "outputs": [],
   "source": [
    "import numpy as np\n",
    "import pandas as pd\n",
    "\n",
    "import os\n",
    "import seaborn as sns\n",
    "import matplotlib.pyplot as plt\n",
    "%matplotlib inline\n",
    "\n",
    "from sklearn.model_selection import train_test_split\n",
    "from sklearn.tree import DecisionTreeClassifier, export_graphviz\n",
    "from sklearn import tree\n",
    "from sklearn.metrics import confusion_matrix\n",
    "from sklearn.preprocessing import LabelEncoder,MinMaxScaler , StandardScaler, OneHotEncoder\n",
    "from sklearn.model_selection import GridSearchCV\n",
    "from sklearn.ensemble import RandomForestClassifier\n",
    "from sklearn.linear_model import LogisticRegression\n",
    "from sklearn.ensemble import RandomForestClassifier\n",
    "from sklearn.model_selection import cross_val_score\n",
    "from sklearn.svm import SVC\n"
   ]
  },
  {
   "cell_type": "code",
   "execution_count": 2,
   "id": "8f1481b2",
   "metadata": {},
   "outputs": [
    {
     "data": {
      "text/plain": [
       "'C:\\\\Users\\\\swsinha\\\\OneDrive - Nokia\\\\CLASS\\\\Flask deployment projects\\\\student campus placement'"
      ]
     },
     "execution_count": 2,
     "metadata": {},
     "output_type": "execute_result"
    }
   ],
   "source": [
    "os.getcwd()"
   ]
  },
  {
   "cell_type": "code",
   "execution_count": 3,
   "id": "51823abd",
   "metadata": {},
   "outputs": [],
   "source": [
    "df=pd.read_csv(\"Placement_Data_Full_Class.csv\")"
   ]
  },
  {
   "cell_type": "code",
   "execution_count": 4,
   "id": "b5acf417",
   "metadata": {},
   "outputs": [
    {
     "data": {
      "text/html": [
       "<div>\n",
       "<style scoped>\n",
       "    .dataframe tbody tr th:only-of-type {\n",
       "        vertical-align: middle;\n",
       "    }\n",
       "\n",
       "    .dataframe tbody tr th {\n",
       "        vertical-align: top;\n",
       "    }\n",
       "\n",
       "    .dataframe thead th {\n",
       "        text-align: right;\n",
       "    }\n",
       "</style>\n",
       "<table border=\"1\" class=\"dataframe\">\n",
       "  <thead>\n",
       "    <tr style=\"text-align: right;\">\n",
       "      <th></th>\n",
       "      <th>sl_no</th>\n",
       "      <th>gender</th>\n",
       "      <th>ssc_p</th>\n",
       "      <th>ssc_b</th>\n",
       "      <th>hsc_p</th>\n",
       "      <th>hsc_b</th>\n",
       "      <th>hsc_s</th>\n",
       "      <th>degree_p</th>\n",
       "      <th>degree_t</th>\n",
       "      <th>workex</th>\n",
       "      <th>etest_p</th>\n",
       "      <th>specialisation</th>\n",
       "      <th>mba_p</th>\n",
       "      <th>status</th>\n",
       "      <th>salary</th>\n",
       "    </tr>\n",
       "  </thead>\n",
       "  <tbody>\n",
       "    <tr>\n",
       "      <th>0</th>\n",
       "      <td>1</td>\n",
       "      <td>M</td>\n",
       "      <td>67.00</td>\n",
       "      <td>Others</td>\n",
       "      <td>91.00</td>\n",
       "      <td>Others</td>\n",
       "      <td>Commerce</td>\n",
       "      <td>58.00</td>\n",
       "      <td>Sci&amp;Tech</td>\n",
       "      <td>No</td>\n",
       "      <td>55.0</td>\n",
       "      <td>Mkt&amp;HR</td>\n",
       "      <td>58.80</td>\n",
       "      <td>Placed</td>\n",
       "      <td>270000.0</td>\n",
       "    </tr>\n",
       "    <tr>\n",
       "      <th>1</th>\n",
       "      <td>2</td>\n",
       "      <td>M</td>\n",
       "      <td>79.33</td>\n",
       "      <td>Central</td>\n",
       "      <td>78.33</td>\n",
       "      <td>Others</td>\n",
       "      <td>Science</td>\n",
       "      <td>77.48</td>\n",
       "      <td>Sci&amp;Tech</td>\n",
       "      <td>Yes</td>\n",
       "      <td>86.5</td>\n",
       "      <td>Mkt&amp;Fin</td>\n",
       "      <td>66.28</td>\n",
       "      <td>Placed</td>\n",
       "      <td>200000.0</td>\n",
       "    </tr>\n",
       "  </tbody>\n",
       "</table>\n",
       "</div>"
      ],
      "text/plain": [
       "   sl_no gender  ssc_p    ssc_b  hsc_p   hsc_b     hsc_s  degree_p  degree_t  \\\n",
       "0      1      M  67.00   Others  91.00  Others  Commerce     58.00  Sci&Tech   \n",
       "1      2      M  79.33  Central  78.33  Others   Science     77.48  Sci&Tech   \n",
       "\n",
       "  workex  etest_p specialisation  mba_p  status    salary  \n",
       "0     No     55.0         Mkt&HR  58.80  Placed  270000.0  \n",
       "1    Yes     86.5        Mkt&Fin  66.28  Placed  200000.0  "
      ]
     },
     "execution_count": 4,
     "metadata": {},
     "output_type": "execute_result"
    }
   ],
   "source": [
    "df.head(2)"
   ]
  },
  {
   "cell_type": "code",
   "execution_count": 5,
   "id": "efdd72c9",
   "metadata": {},
   "outputs": [
    {
     "data": {
      "text/plain": [
       "Index(['sl_no', 'gender', 'ssc_p', 'ssc_b', 'hsc_p', 'hsc_b', 'hsc_s',\n",
       "       'degree_p', 'degree_t', 'workex', 'etest_p', 'specialisation', 'mba_p',\n",
       "       'status', 'salary'],\n",
       "      dtype='object')"
      ]
     },
     "execution_count": 5,
     "metadata": {},
     "output_type": "execute_result"
    }
   ],
   "source": [
    "df.columns"
   ]
  },
  {
   "cell_type": "code",
   "execution_count": 6,
   "id": "c343ef92",
   "metadata": {},
   "outputs": [
    {
     "name": "stdout",
     "output_type": "stream",
     "text": [
      "<class 'pandas.core.frame.DataFrame'>\n",
      "RangeIndex: 215 entries, 0 to 214\n",
      "Data columns (total 15 columns):\n",
      " #   Column          Non-Null Count  Dtype  \n",
      "---  ------          --------------  -----  \n",
      " 0   sl_no           215 non-null    int64  \n",
      " 1   gender          215 non-null    object \n",
      " 2   ssc_p           215 non-null    float64\n",
      " 3   ssc_b           215 non-null    object \n",
      " 4   hsc_p           215 non-null    float64\n",
      " 5   hsc_b           215 non-null    object \n",
      " 6   hsc_s           215 non-null    object \n",
      " 7   degree_p        215 non-null    float64\n",
      " 8   degree_t        215 non-null    object \n",
      " 9   workex          215 non-null    object \n",
      " 10  etest_p         215 non-null    float64\n",
      " 11  specialisation  215 non-null    object \n",
      " 12  mba_p           215 non-null    float64\n",
      " 13  status          215 non-null    object \n",
      " 14  salary          148 non-null    float64\n",
      "dtypes: float64(6), int64(1), object(8)\n",
      "memory usage: 25.3+ KB\n"
     ]
    }
   ],
   "source": [
    "df.info()"
   ]
  },
  {
   "cell_type": "code",
   "execution_count": 7,
   "id": "1dd820c5",
   "metadata": {},
   "outputs": [
    {
     "data": {
      "text/plain": [
       "sl_no              0\n",
       "gender             0\n",
       "ssc_p              0\n",
       "ssc_b              0\n",
       "hsc_p              0\n",
       "hsc_b              0\n",
       "hsc_s              0\n",
       "degree_p           0\n",
       "degree_t           0\n",
       "workex             0\n",
       "etest_p            0\n",
       "specialisation     0\n",
       "mba_p              0\n",
       "status             0\n",
       "salary            67\n",
       "dtype: int64"
      ]
     },
     "execution_count": 7,
     "metadata": {},
     "output_type": "execute_result"
    }
   ],
   "source": [
    "df.isnull().sum() # check null values"
   ]
  },
  {
   "attachments": {},
   "cell_type": "markdown",
   "id": "8a776779",
   "metadata": {},
   "source": [
    "salary columns has 67 null values which need to fill."
   ]
  },
  {
   "cell_type": "code",
   "execution_count": 8,
   "id": "1ef43d17",
   "metadata": {},
   "outputs": [],
   "source": [
    "import warnings\n",
    "warnings.simplefilter(\"ignore\")"
   ]
  },
  {
   "cell_type": "code",
   "execution_count": 9,
   "id": "1713eba4",
   "metadata": {},
   "outputs": [],
   "source": [
    "def plotfillnagraph(col):\n",
    "    plt.figure(figsize=(4,2))\n",
    "    sns.distplot(df['salary'],kde=True,hist=False,label='Actual Salary',color='green')\n",
    "    sns.distplot(df[col],kde=True,hist=False,label=col,color='black')"
   ]
  },
  {
   "cell_type": "code",
   "execution_count": 10,
   "id": "63597e39",
   "metadata": {},
   "outputs": [],
   "source": [
    "df['salary_mean']=df['salary'].fillna(df['salary'].mean())\n",
    "df['salary_mode']=df['salary'].fillna(df['salary'].mode()[0])\n",
    "df['salary_median']=df['salary'].fillna(df['salary'].median())"
   ]
  },
  {
   "cell_type": "code",
   "execution_count": 11,
   "id": "4cf6e5b7",
   "metadata": {},
   "outputs": [
    {
     "data": {
      "text/html": [
       "<div>\n",
       "<style scoped>\n",
       "    .dataframe tbody tr th:only-of-type {\n",
       "        vertical-align: middle;\n",
       "    }\n",
       "\n",
       "    .dataframe tbody tr th {\n",
       "        vertical-align: top;\n",
       "    }\n",
       "\n",
       "    .dataframe thead th {\n",
       "        text-align: right;\n",
       "    }\n",
       "</style>\n",
       "<table border=\"1\" class=\"dataframe\">\n",
       "  <thead>\n",
       "    <tr style=\"text-align: right;\">\n",
       "      <th></th>\n",
       "      <th>sl_no</th>\n",
       "      <th>gender</th>\n",
       "      <th>ssc_p</th>\n",
       "      <th>ssc_b</th>\n",
       "      <th>hsc_p</th>\n",
       "      <th>hsc_b</th>\n",
       "      <th>hsc_s</th>\n",
       "      <th>degree_p</th>\n",
       "      <th>degree_t</th>\n",
       "      <th>workex</th>\n",
       "      <th>etest_p</th>\n",
       "      <th>specialisation</th>\n",
       "      <th>mba_p</th>\n",
       "      <th>status</th>\n",
       "      <th>salary</th>\n",
       "      <th>salary_mean</th>\n",
       "      <th>salary_mode</th>\n",
       "      <th>salary_median</th>\n",
       "    </tr>\n",
       "  </thead>\n",
       "  <tbody>\n",
       "    <tr>\n",
       "      <th>0</th>\n",
       "      <td>1</td>\n",
       "      <td>M</td>\n",
       "      <td>67.00</td>\n",
       "      <td>Others</td>\n",
       "      <td>91.00</td>\n",
       "      <td>Others</td>\n",
       "      <td>Commerce</td>\n",
       "      <td>58.00</td>\n",
       "      <td>Sci&amp;Tech</td>\n",
       "      <td>No</td>\n",
       "      <td>55.0</td>\n",
       "      <td>Mkt&amp;HR</td>\n",
       "      <td>58.80</td>\n",
       "      <td>Placed</td>\n",
       "      <td>270000.0</td>\n",
       "      <td>270000.0</td>\n",
       "      <td>270000.0</td>\n",
       "      <td>270000.0</td>\n",
       "    </tr>\n",
       "    <tr>\n",
       "      <th>1</th>\n",
       "      <td>2</td>\n",
       "      <td>M</td>\n",
       "      <td>79.33</td>\n",
       "      <td>Central</td>\n",
       "      <td>78.33</td>\n",
       "      <td>Others</td>\n",
       "      <td>Science</td>\n",
       "      <td>77.48</td>\n",
       "      <td>Sci&amp;Tech</td>\n",
       "      <td>Yes</td>\n",
       "      <td>86.5</td>\n",
       "      <td>Mkt&amp;Fin</td>\n",
       "      <td>66.28</td>\n",
       "      <td>Placed</td>\n",
       "      <td>200000.0</td>\n",
       "      <td>200000.0</td>\n",
       "      <td>200000.0</td>\n",
       "      <td>200000.0</td>\n",
       "    </tr>\n",
       "  </tbody>\n",
       "</table>\n",
       "</div>"
      ],
      "text/plain": [
       "   sl_no gender  ssc_p    ssc_b  hsc_p   hsc_b     hsc_s  degree_p  degree_t  \\\n",
       "0      1      M  67.00   Others  91.00  Others  Commerce     58.00  Sci&Tech   \n",
       "1      2      M  79.33  Central  78.33  Others   Science     77.48  Sci&Tech   \n",
       "\n",
       "  workex  etest_p specialisation  mba_p  status    salary  salary_mean  \\\n",
       "0     No     55.0         Mkt&HR  58.80  Placed  270000.0     270000.0   \n",
       "1    Yes     86.5        Mkt&Fin  66.28  Placed  200000.0     200000.0   \n",
       "\n",
       "   salary_mode  salary_median  \n",
       "0     270000.0       270000.0  \n",
       "1     200000.0       200000.0  "
      ]
     },
     "execution_count": 11,
     "metadata": {},
     "output_type": "execute_result"
    }
   ],
   "source": [
    "df.head(2)"
   ]
  },
  {
   "cell_type": "code",
   "execution_count": 12,
   "id": "b6b43895",
   "metadata": {},
   "outputs": [
    {
     "data": {
      "image/png": "[encoded data removed]",
      "text/plain": [
       "<Figure size 400x200 with 1 Axes>"
      ]
     },
     "metadata": {},
     "output_type": "display_data"
    },
    {
     "data": {
      "image/png": "[encoded data removed]",
      "text/plain": [
       "<Figure size 400x200 with 1 Axes>"
      ]
     },
     "metadata": {},
     "output_type": "display_data"
    },
    {
     "data": {
      "image/png": "[encoded data removed]",
      "text/plain": [
       "<Figure size 400x200 with 1 Axes>"
      ]
     },
     "metadata": {},
     "output_type": "display_data"
    }
   ],
   "source": [
    "salarcol=['salary_mean','salary_mode','salary_median']\n",
    "for col in salarcol:\n",
    "    plotfillnagraph(col)\n",
    "    "
   ]
  },
  {
   "attachments": {},
   "cell_type": "markdown",
   "id": "232a9832",
   "metadata": {},
   "source": [
    "the salary deviation with mean can be consider to fillna values"
   ]
  },
  {
   "cell_type": "code",
   "execution_count": 13,
   "id": "1bd511e7",
   "metadata": {},
   "outputs": [
    {
     "data": {
      "text/html": [
       "<div>\n",
       "<style scoped>\n",
       "    .dataframe tbody tr th:only-of-type {\n",
       "        vertical-align: middle;\n",
       "    }\n",
       "\n",
       "    .dataframe tbody tr th {\n",
       "        vertical-align: top;\n",
       "    }\n",
       "\n",
       "    .dataframe thead th {\n",
       "        text-align: right;\n",
       "    }\n",
       "</style>\n",
       "<table border=\"1\" class=\"dataframe\">\n",
       "  <thead>\n",
       "    <tr style=\"text-align: right;\">\n",
       "      <th></th>\n",
       "      <th>sl_no</th>\n",
       "      <th>gender</th>\n",
       "      <th>ssc_p</th>\n",
       "      <th>ssc_b</th>\n",
       "      <th>hsc_p</th>\n",
       "      <th>hsc_b</th>\n",
       "      <th>hsc_s</th>\n",
       "      <th>degree_p</th>\n",
       "      <th>degree_t</th>\n",
       "      <th>workex</th>\n",
       "      <th>etest_p</th>\n",
       "      <th>specialisation</th>\n",
       "      <th>mba_p</th>\n",
       "      <th>status</th>\n",
       "      <th>salary</th>\n",
       "      <th>salary_mean</th>\n",
       "      <th>salary_mode</th>\n",
       "      <th>salary_median</th>\n",
       "    </tr>\n",
       "  </thead>\n",
       "  <tbody>\n",
       "    <tr>\n",
       "      <th>0</th>\n",
       "      <td>1</td>\n",
       "      <td>M</td>\n",
       "      <td>67.00</td>\n",
       "      <td>Others</td>\n",
       "      <td>91.00</td>\n",
       "      <td>Others</td>\n",
       "      <td>Commerce</td>\n",
       "      <td>58.00</td>\n",
       "      <td>Sci&amp;Tech</td>\n",
       "      <td>No</td>\n",
       "      <td>55.0</td>\n",
       "      <td>Mkt&amp;HR</td>\n",
       "      <td>58.80</td>\n",
       "      <td>Placed</td>\n",
       "      <td>270000.000000</td>\n",
       "      <td>270000.000000</td>\n",
       "      <td>270000.0</td>\n",
       "      <td>270000.0</td>\n",
       "    </tr>\n",
       "    <tr>\n",
       "      <th>1</th>\n",
       "      <td>2</td>\n",
       "      <td>M</td>\n",
       "      <td>79.33</td>\n",
       "      <td>Central</td>\n",
       "      <td>78.33</td>\n",
       "      <td>Others</td>\n",
       "      <td>Science</td>\n",
       "      <td>77.48</td>\n",
       "      <td>Sci&amp;Tech</td>\n",
       "      <td>Yes</td>\n",
       "      <td>86.5</td>\n",
       "      <td>Mkt&amp;Fin</td>\n",
       "      <td>66.28</td>\n",
       "      <td>Placed</td>\n",
       "      <td>200000.000000</td>\n",
       "      <td>200000.000000</td>\n",
       "      <td>200000.0</td>\n",
       "      <td>200000.0</td>\n",
       "    </tr>\n",
       "    <tr>\n",
       "      <th>2</th>\n",
       "      <td>3</td>\n",
       "      <td>M</td>\n",
       "      <td>65.00</td>\n",
       "      <td>Central</td>\n",
       "      <td>68.00</td>\n",
       "      <td>Central</td>\n",
       "      <td>Arts</td>\n",
       "      <td>64.00</td>\n",
       "      <td>Comm&amp;Mgmt</td>\n",
       "      <td>No</td>\n",
       "      <td>75.0</td>\n",
       "      <td>Mkt&amp;Fin</td>\n",
       "      <td>57.80</td>\n",
       "      <td>Placed</td>\n",
       "      <td>250000.000000</td>\n",
       "      <td>250000.000000</td>\n",
       "      <td>250000.0</td>\n",
       "      <td>250000.0</td>\n",
       "    </tr>\n",
       "    <tr>\n",
       "      <th>3</th>\n",
       "      <td>4</td>\n",
       "      <td>M</td>\n",
       "      <td>56.00</td>\n",
       "      <td>Central</td>\n",
       "      <td>52.00</td>\n",
       "      <td>Central</td>\n",
       "      <td>Science</td>\n",
       "      <td>52.00</td>\n",
       "      <td>Sci&amp;Tech</td>\n",
       "      <td>No</td>\n",
       "      <td>66.0</td>\n",
       "      <td>Mkt&amp;HR</td>\n",
       "      <td>59.43</td>\n",
       "      <td>Not Placed</td>\n",
       "      <td>288655.405405</td>\n",
       "      <td>288655.405405</td>\n",
       "      <td>300000.0</td>\n",
       "      <td>265000.0</td>\n",
       "    </tr>\n",
       "    <tr>\n",
       "      <th>4</th>\n",
       "      <td>5</td>\n",
       "      <td>M</td>\n",
       "      <td>85.80</td>\n",
       "      <td>Central</td>\n",
       "      <td>73.60</td>\n",
       "      <td>Central</td>\n",
       "      <td>Commerce</td>\n",
       "      <td>73.30</td>\n",
       "      <td>Comm&amp;Mgmt</td>\n",
       "      <td>No</td>\n",
       "      <td>96.8</td>\n",
       "      <td>Mkt&amp;Fin</td>\n",
       "      <td>55.50</td>\n",
       "      <td>Placed</td>\n",
       "      <td>425000.000000</td>\n",
       "      <td>425000.000000</td>\n",
       "      <td>425000.0</td>\n",
       "      <td>425000.0</td>\n",
       "    </tr>\n",
       "  </tbody>\n",
       "</table>\n",
       "</div>"
      ],
      "text/plain": [
       "   sl_no gender  ssc_p    ssc_b  hsc_p    hsc_b     hsc_s  degree_p  \\\n",
       "0      1      M  67.00   Others  91.00   Others  Commerce     58.00   \n",
       "1      2      M  79.33  Central  78.33   Others   Science     77.48   \n",
       "2      3      M  65.00  Central  68.00  Central      Arts     64.00   \n",
       "3      4      M  56.00  Central  52.00  Central   Science     52.00   \n",
       "4      5      M  85.80  Central  73.60  Central  Commerce     73.30   \n",
       "\n",
       "    degree_t workex  etest_p specialisation  mba_p      status         salary  \\\n",
       "0   Sci&Tech     No     55.0         Mkt&HR  58.80      Placed  270000.000000   \n",
       "1   Sci&Tech    Yes     86.5        Mkt&Fin  66.28      Placed  200000.000000   \n",
       "2  Comm&Mgmt     No     75.0        Mkt&Fin  57.80      Placed  250000.000000   \n",
       "3   Sci&Tech     No     66.0         Mkt&HR  59.43  Not Placed  288655.405405   \n",
       "4  Comm&Mgmt     No     96.8        Mkt&Fin  55.50      Placed  425000.000000   \n",
       "\n",
       "     salary_mean  salary_mode  salary_median  \n",
       "0  270000.000000     270000.0       270000.0  \n",
       "1  200000.000000     200000.0       200000.0  \n",
       "2  250000.000000     250000.0       250000.0  \n",
       "3  288655.405405     300000.0       265000.0  \n",
       "4  425000.000000     425000.0       425000.0  "
      ]
     },
     "execution_count": 13,
     "metadata": {},
     "output_type": "execute_result"
    }
   ],
   "source": [
    "#replacing null value with mean\n",
    "df.fillna(df['salary'].mean(),inplace=True)\n",
    "df.head(5)"
   ]
  },
  {
   "cell_type": "code",
   "execution_count": 14,
   "id": "6dc09a27",
   "metadata": {},
   "outputs": [],
   "source": [
    "df=df.drop(columns=['salary_mean','salary_mode','salary_median'])"
   ]
  },
  {
   "cell_type": "code",
   "execution_count": 15,
   "id": "9bd8d2b8",
   "metadata": {},
   "outputs": [
    {
     "name": "stdout",
     "output_type": "stream",
     "text": [
      "list[Index(['gender', 'ssc_b', 'hsc_b', 'hsc_s', 'degree_t', 'workex',\n",
      "       'specialisation', 'status'],\n",
      "      dtype='object')] list[Index(['sl_no', 'ssc_p', 'hsc_p', 'degree_p', 'etest_p', 'mba_p', 'salary'], dtype='object')]\n"
     ]
    }
   ],
   "source": [
    "catvar=list[df.select_dtypes(include=['O']).columns]\n",
    "numvar=list[df.select_dtypes(exclude=['O']).columns]\n",
    "print(catvar,numvar)"
   ]
  },
  {
   "attachments": {},
   "cell_type": "markdown",
   "id": "03c0aa75",
   "metadata": {},
   "source": [
    "EDA"
   ]
  },
  {
   "cell_type": "code",
   "execution_count": 16,
   "id": "1d8da69a",
   "metadata": {},
   "outputs": [
    {
     "data": {
      "text/plain": [
       "<Axes: xlabel='status', ylabel='count'>"
      ]
     },
     "execution_count": 16,
     "metadata": {},
     "output_type": "execute_result"
    },
    {
     "data": {
      "image/png": "[encoded data removed]",
      "text/plain": [
       "<Figure size 400x200 with 1 Axes>"
      ]
     },
     "metadata": {},
     "output_type": "display_data"
    }
   ],
   "source": [
    "plt.figure(figsize=(4,2))\n",
    "sns.countplot(x=df['status'],hue=df['gender'])\n"
   ]
  },
  {
   "cell_type": "code",
   "execution_count": 17,
   "id": "0a48f767",
   "metadata": {},
   "outputs": [
    {
     "data": {
      "text/plain": [
       "<Axes: ylabel='status'>"
      ]
     },
     "execution_count": 17,
     "metadata": {},
     "output_type": "execute_result"
    },
    {
     "data": {
      "image/png": "[encoded data removed]",
      "text/plain": [
       "<Figure size 400x300 with 1 Axes>"
      ]
     },
     "metadata": {},
     "output_type": "display_data"
    }
   ],
   "source": [
    "df['status'].value_counts().plot(kind='pie',autopct='%1.0f%%',figsize=(4,3))"
   ]
  },
  {
   "attachments": {},
   "cell_type": "markdown",
   "id": "5916872c",
   "metadata": {},
   "source": [
    "69 % candidate are placed and 31 % are not placed\n",
    "Male candidate placed are greater than female candidate"
   ]
  },
  {
   "cell_type": "code",
   "execution_count": 18,
   "id": "e53c794d",
   "metadata": {},
   "outputs": [
    {
     "data": {
      "text/plain": [
       "<Axes: xlabel='specialisation'>"
      ]
     },
     "execution_count": 18,
     "metadata": {},
     "output_type": "execute_result"
    },
    {
     "data": {
      "image/png": "[encoded data removed]",
      "text/plain": [
       "<Figure size 400x200 with 1 Axes>"
      ]
     },
     "metadata": {},
     "output_type": "display_data"
    }
   ],
   "source": [
    "df.groupby(['specialisation'])['status'].count().plot(kind='bar',figsize=(4,2))"
   ]
  },
  {
   "cell_type": "code",
   "execution_count": 19,
   "id": "6242eb0a",
   "metadata": {},
   "outputs": [
    {
     "data": {
      "text/plain": [
       "<Axes: ylabel='status'>"
      ]
     },
     "execution_count": 19,
     "metadata": {},
     "output_type": "execute_result"
    },
    {
     "data": {
      "image/png": "[encoded data removed]",
      "text/plain": [
       "<Figure size 500x300 with 1 Axes>"
      ]
     },
     "metadata": {},
     "output_type": "display_data"
    }
   ],
   "source": [
    "df.groupby(['hsc_s'])['status'].count().plot(kind = 'pie',autopct='%1.0f%%',figsize=(5,3))"
   ]
  },
  {
   "cell_type": "code",
   "execution_count": 20,
   "id": "d65a5b4f",
   "metadata": {},
   "outputs": [
    {
     "data": {
      "text/plain": [
       "Index(['sl_no', 'gender', 'ssc_p', 'ssc_b', 'hsc_p', 'hsc_b', 'hsc_s',\n",
       "       'degree_p', 'degree_t', 'workex', 'etest_p', 'specialisation', 'mba_p',\n",
       "       'status', 'salary'],\n",
       "      dtype='object')"
      ]
     },
     "execution_count": 20,
     "metadata": {},
     "output_type": "execute_result"
    }
   ],
   "source": [
    "df.columns"
   ]
  },
  {
   "cell_type": "code",
   "execution_count": 21,
   "id": "26edd0d6",
   "metadata": {},
   "outputs": [
    {
     "data": {
      "text/plain": [
       "<Axes: ylabel='status'>"
      ]
     },
     "execution_count": 21,
     "metadata": {},
     "output_type": "execute_result"
    },
    {
     "data": {
      "image/png": "[encoded data removed]",
      "text/plain": [
       "<Figure size 500x300 with 1 Axes>"
      ]
     },
     "metadata": {},
     "output_type": "display_data"
    }
   ],
   "source": [
    "# Mkt&HR students placed\n",
    "df1=df[(df['status']=='Placed')& (df['specialisation']=='Mkt&HR')]\n",
    "df1.head()\n",
    "df1.groupby(['degree_t'])['status'].count().plot(kind='pie',autopct='%1.0f%%',figsize=(5,3))"
   ]
  },
  {
   "attachments": {},
   "cell_type": "markdown",
   "id": "a0aed8ec",
   "metadata": {},
   "source": [
    "Number of Placed Cnadidate ,having specialisation -Mkt&HR with Comm & Mgmt in Degree are maximum i.e 64 % followed by Sci&Tech with 30%"
   ]
  },
  {
   "cell_type": "code",
   "execution_count": 22,
   "id": "40e564ea",
   "metadata": {},
   "outputs": [
    {
     "data": {
      "text/plain": [
       "<Axes: ylabel='status'>"
      ]
     },
     "execution_count": 22,
     "metadata": {},
     "output_type": "execute_result"
    },
    {
     "data": {
      "image/png": "[encoded data removed]",
      "text/plain": [
       "<Figure size 500x300 with 1 Axes>"
      ]
     },
     "metadata": {},
     "output_type": "display_data"
    }
   ],
   "source": [
    "df1.groupby(['hsc_s'])['status'].count().plot(kind='pie',autopct='%1.0f%%',figsize=(5,3))"
   ]
  },
  {
   "attachments": {},
   "cell_type": "markdown",
   "id": "50ed03e7",
   "metadata": {},
   "source": [
    "Number of Placed Cnadidate ,having specialisation -Mkt&HR with SCience in HSC are maximum i.e 51 % followed by commerce with 47%"
   ]
  },
  {
   "cell_type": "code",
   "execution_count": 23,
   "id": "ff05e0f3",
   "metadata": {},
   "outputs": [
    {
     "data": {
      "text/html": [
       "<div>\n",
       "<style scoped>\n",
       "    .dataframe tbody tr th:only-of-type {\n",
       "        vertical-align: middle;\n",
       "    }\n",
       "\n",
       "    .dataframe tbody tr th {\n",
       "        vertical-align: top;\n",
       "    }\n",
       "\n",
       "    .dataframe thead th {\n",
       "        text-align: right;\n",
       "    }\n",
       "</style>\n",
       "<table border=\"1\" class=\"dataframe\">\n",
       "  <thead>\n",
       "    <tr style=\"text-align: right;\">\n",
       "      <th></th>\n",
       "      <th>sl_no</th>\n",
       "      <th>gender</th>\n",
       "      <th>ssc_p</th>\n",
       "      <th>ssc_b</th>\n",
       "      <th>hsc_p</th>\n",
       "      <th>hsc_b</th>\n",
       "      <th>hsc_s</th>\n",
       "      <th>degree_p</th>\n",
       "      <th>degree_t</th>\n",
       "      <th>workex</th>\n",
       "      <th>etest_p</th>\n",
       "      <th>specialisation</th>\n",
       "      <th>mba_p</th>\n",
       "      <th>status</th>\n",
       "      <th>salary</th>\n",
       "    </tr>\n",
       "  </thead>\n",
       "  <tbody>\n",
       "    <tr>\n",
       "      <th>0</th>\n",
       "      <td>1</td>\n",
       "      <td>M</td>\n",
       "      <td>67.0</td>\n",
       "      <td>Others</td>\n",
       "      <td>91.0</td>\n",
       "      <td>Others</td>\n",
       "      <td>Commerce</td>\n",
       "      <td>58.0</td>\n",
       "      <td>Sci&amp;Tech</td>\n",
       "      <td>No</td>\n",
       "      <td>55.0</td>\n",
       "      <td>Mkt&amp;HR</td>\n",
       "      <td>58.80</td>\n",
       "      <td>Placed</td>\n",
       "      <td>270000.0</td>\n",
       "    </tr>\n",
       "    <tr>\n",
       "      <th>10</th>\n",
       "      <td>11</td>\n",
       "      <td>M</td>\n",
       "      <td>58.0</td>\n",
       "      <td>Central</td>\n",
       "      <td>61.0</td>\n",
       "      <td>Central</td>\n",
       "      <td>Commerce</td>\n",
       "      <td>60.0</td>\n",
       "      <td>Comm&amp;Mgmt</td>\n",
       "      <td>Yes</td>\n",
       "      <td>62.0</td>\n",
       "      <td>Mkt&amp;HR</td>\n",
       "      <td>60.85</td>\n",
       "      <td>Placed</td>\n",
       "      <td>260000.0</td>\n",
       "    </tr>\n",
       "  </tbody>\n",
       "</table>\n",
       "</div>"
      ],
      "text/plain": [
       "    sl_no gender  ssc_p    ssc_b  hsc_p    hsc_b     hsc_s  degree_p  \\\n",
       "0       1      M   67.0   Others   91.0   Others  Commerce      58.0   \n",
       "10     11      M   58.0  Central   61.0  Central  Commerce      60.0   \n",
       "\n",
       "     degree_t workex  etest_p specialisation  mba_p  status    salary  \n",
       "0    Sci&Tech     No     55.0         Mkt&HR  58.80  Placed  270000.0  \n",
       "10  Comm&Mgmt    Yes     62.0         Mkt&HR  60.85  Placed  260000.0  "
      ]
     },
     "execution_count": 23,
     "metadata": {},
     "output_type": "execute_result"
    }
   ],
   "source": [
    "df1.head(2)"
   ]
  },
  {
   "cell_type": "code",
   "execution_count": 24,
   "id": "4245e6a4",
   "metadata": {
    "scrolled": true
   },
   "outputs": [
    {
     "data": {
      "text/plain": [
       "<Axes: xlabel='degree_p', ylabel='degree_t'>"
      ]
     },
     "execution_count": 24,
     "metadata": {},
     "output_type": "execute_result"
    },
    {
     "data": {
      "image/png": "[encoded data removed]",
      "text/plain": [
       "<Figure size 640x480 with 1 Axes>"
      ]
     },
     "metadata": {},
     "output_type": "display_data"
    }
   ],
   "source": [
    "sns.boxplot(data=df1, x=\"degree_p\", y=\"degree_t\", hue=\"gender\")"
   ]
  },
  {
   "attachments": {},
   "cell_type": "markdown",
   "id": "7a1283a6",
   "metadata": {},
   "source": [
    "Female performance in degree was good as compaire to Male,specially in Sci&Tech\n"
   ]
  },
  {
   "attachments": {},
   "cell_type": "markdown",
   "id": "aa08ca76",
   "metadata": {},
   "source": [
    "## Model Building"
   ]
  },
  {
   "cell_type": "code",
   "execution_count": 25,
   "id": "ba0f56ed",
   "metadata": {},
   "outputs": [
    {
     "data": {
      "text/html": [
       "<div>\n",
       "<style scoped>\n",
       "    .dataframe tbody tr th:only-of-type {\n",
       "        vertical-align: middle;\n",
       "    }\n",
       "\n",
       "    .dataframe tbody tr th {\n",
       "        vertical-align: top;\n",
       "    }\n",
       "\n",
       "    .dataframe thead th {\n",
       "        text-align: right;\n",
       "    }\n",
       "</style>\n",
       "<table border=\"1\" class=\"dataframe\">\n",
       "  <thead>\n",
       "    <tr style=\"text-align: right;\">\n",
       "      <th></th>\n",
       "      <th>sl_no</th>\n",
       "      <th>gender</th>\n",
       "      <th>ssc_p</th>\n",
       "      <th>ssc_b</th>\n",
       "      <th>hsc_p</th>\n",
       "      <th>hsc_b</th>\n",
       "      <th>hsc_s</th>\n",
       "      <th>degree_p</th>\n",
       "      <th>degree_t</th>\n",
       "      <th>workex</th>\n",
       "      <th>etest_p</th>\n",
       "      <th>specialisation</th>\n",
       "      <th>mba_p</th>\n",
       "      <th>status</th>\n",
       "      <th>salary</th>\n",
       "    </tr>\n",
       "  </thead>\n",
       "  <tbody>\n",
       "    <tr>\n",
       "      <th>0</th>\n",
       "      <td>1</td>\n",
       "      <td>M</td>\n",
       "      <td>67.00</td>\n",
       "      <td>Others</td>\n",
       "      <td>91.00</td>\n",
       "      <td>Others</td>\n",
       "      <td>Commerce</td>\n",
       "      <td>58.00</td>\n",
       "      <td>Sci&amp;Tech</td>\n",
       "      <td>No</td>\n",
       "      <td>55.0</td>\n",
       "      <td>Mkt&amp;HR</td>\n",
       "      <td>58.80</td>\n",
       "      <td>Placed</td>\n",
       "      <td>270000.0</td>\n",
       "    </tr>\n",
       "    <tr>\n",
       "      <th>1</th>\n",
       "      <td>2</td>\n",
       "      <td>M</td>\n",
       "      <td>79.33</td>\n",
       "      <td>Central</td>\n",
       "      <td>78.33</td>\n",
       "      <td>Others</td>\n",
       "      <td>Science</td>\n",
       "      <td>77.48</td>\n",
       "      <td>Sci&amp;Tech</td>\n",
       "      <td>Yes</td>\n",
       "      <td>86.5</td>\n",
       "      <td>Mkt&amp;Fin</td>\n",
       "      <td>66.28</td>\n",
       "      <td>Placed</td>\n",
       "      <td>200000.0</td>\n",
       "    </tr>\n",
       "  </tbody>\n",
       "</table>\n",
       "</div>"
      ],
      "text/plain": [
       "   sl_no gender  ssc_p    ssc_b  hsc_p   hsc_b     hsc_s  degree_p  degree_t  \\\n",
       "0      1      M  67.00   Others  91.00  Others  Commerce     58.00  Sci&Tech   \n",
       "1      2      M  79.33  Central  78.33  Others   Science     77.48  Sci&Tech   \n",
       "\n",
       "  workex  etest_p specialisation  mba_p  status    salary  \n",
       "0     No     55.0         Mkt&HR  58.80  Placed  270000.0  \n",
       "1    Yes     86.5        Mkt&Fin  66.28  Placed  200000.0  "
      ]
     },
     "execution_count": 25,
     "metadata": {},
     "output_type": "execute_result"
    }
   ],
   "source": [
    "df.head(2)"
   ]
  },
  {
   "cell_type": "code",
   "execution_count": 26,
   "id": "17dac5b3",
   "metadata": {},
   "outputs": [],
   "source": [
    "#from sklearn.preprocessing import LabelEncoder\n",
    "#def label_transformation(x):\n",
    "    #le=LabelEncoder()\n",
    "    #le_encoded=le.fit_transform(x)\n",
    "    #return le_encoded\n",
    "    "
   ]
  },
  {
   "cell_type": "code",
   "execution_count": 27,
   "id": "96a8e917",
   "metadata": {},
   "outputs": [
    {
     "data": {
      "text/plain": [
       "list[Index(['gender', 'ssc_b', 'hsc_b', 'hsc_s', 'degree_t', 'workex',\n",
       "       'specialisation', 'status'],\n",
       "      dtype='object')]"
      ]
     },
     "execution_count": 27,
     "metadata": {},
     "output_type": "execute_result"
    }
   ],
   "source": [
    "catvar"
   ]
  },
  {
   "cell_type": "code",
   "execution_count": 28,
   "id": "51eaad54",
   "metadata": {},
   "outputs": [],
   "source": [
    "catergorial_columns=['gender', 'ssc_b', 'hsc_b', 'hsc_s', 'degree_t', 'workex','specialisation', 'status']\n",
    "#for x in catergorial_columns:\n",
    "    #df_transformed[x]=  label_transformation(df[x])\n",
    "    #df[x] = label_transformation(df[x])\n",
    "    \n"
   ]
  },
  {
   "cell_type": "code",
   "execution_count": 29,
   "id": "571a5444",
   "metadata": {},
   "outputs": [],
   "source": [
    "def labelencode(le,col):\n",
    "    \n",
    "    df[col] = le.fit_transform(df[col])    \n",
    "getmappings = {}\n",
    "from sklearn.preprocessing import LabelEncoder\n",
    "le = LabelEncoder()\n",
    "for col in catergorial_columns:\n",
    "    labelencode(le,col)\n",
    "    getmappings[col] = dict(zip(le.classes_,le.transform(le.classes_)))\n"
   ]
  },
  {
   "cell_type": "code",
   "execution_count": 30,
   "id": "5f9508d9",
   "metadata": {},
   "outputs": [
    {
     "data": {
      "text/html": [
       "<div>\n",
       "<style scoped>\n",
       "    .dataframe tbody tr th:only-of-type {\n",
       "        vertical-align: middle;\n",
       "    }\n",
       "\n",
       "    .dataframe tbody tr th {\n",
       "        vertical-align: top;\n",
       "    }\n",
       "\n",
       "    .dataframe thead th {\n",
       "        text-align: right;\n",
       "    }\n",
       "</style>\n",
       "<table border=\"1\" class=\"dataframe\">\n",
       "  <thead>\n",
       "    <tr style=\"text-align: right;\">\n",
       "      <th></th>\n",
       "      <th>sl_no</th>\n",
       "      <th>gender</th>\n",
       "      <th>ssc_p</th>\n",
       "      <th>ssc_b</th>\n",
       "      <th>hsc_p</th>\n",
       "      <th>hsc_b</th>\n",
       "      <th>hsc_s</th>\n",
       "      <th>degree_p</th>\n",
       "      <th>degree_t</th>\n",
       "      <th>workex</th>\n",
       "      <th>etest_p</th>\n",
       "      <th>specialisation</th>\n",
       "      <th>mba_p</th>\n",
       "      <th>status</th>\n",
       "      <th>salary</th>\n",
       "    </tr>\n",
       "  </thead>\n",
       "  <tbody>\n",
       "    <tr>\n",
       "      <th>0</th>\n",
       "      <td>1</td>\n",
       "      <td>1</td>\n",
       "      <td>67.00</td>\n",
       "      <td>1</td>\n",
       "      <td>91.00</td>\n",
       "      <td>1</td>\n",
       "      <td>1</td>\n",
       "      <td>58.00</td>\n",
       "      <td>2</td>\n",
       "      <td>0</td>\n",
       "      <td>55.0</td>\n",
       "      <td>1</td>\n",
       "      <td>58.80</td>\n",
       "      <td>1</td>\n",
       "      <td>270000.0</td>\n",
       "    </tr>\n",
       "    <tr>\n",
       "      <th>1</th>\n",
       "      <td>2</td>\n",
       "      <td>1</td>\n",
       "      <td>79.33</td>\n",
       "      <td>0</td>\n",
       "      <td>78.33</td>\n",
       "      <td>1</td>\n",
       "      <td>2</td>\n",
       "      <td>77.48</td>\n",
       "      <td>2</td>\n",
       "      <td>1</td>\n",
       "      <td>86.5</td>\n",
       "      <td>0</td>\n",
       "      <td>66.28</td>\n",
       "      <td>1</td>\n",
       "      <td>200000.0</td>\n",
       "    </tr>\n",
       "  </tbody>\n",
       "</table>\n",
       "</div>"
      ],
      "text/plain": [
       "   sl_no  gender  ssc_p  ssc_b  hsc_p  hsc_b  hsc_s  degree_p  degree_t  \\\n",
       "0      1       1  67.00      1  91.00      1      1     58.00         2   \n",
       "1      2       1  79.33      0  78.33      1      2     77.48         2   \n",
       "\n",
       "   workex  etest_p  specialisation  mba_p  status    salary  \n",
       "0       0     55.0               1  58.80       1  270000.0  \n",
       "1       1     86.5               0  66.28       1  200000.0  "
      ]
     },
     "execution_count": 30,
     "metadata": {},
     "output_type": "execute_result"
    }
   ],
   "source": [
    "df.head(2)"
   ]
  },
  {
   "attachments": {},
   "cell_type": "markdown",
   "id": "43221904",
   "metadata": {},
   "source": [
    "As we have seen there is null value in salary as we konw salary will be know after placement , so for model  for campus placement droping sl_no and salary columns."
   ]
  },
  {
   "cell_type": "code",
   "execution_count": 31,
   "id": "bac5c916",
   "metadata": {},
   "outputs": [
    {
     "data": {
      "text/html": [
       "<div>\n",
       "<style scoped>\n",
       "    .dataframe tbody tr th:only-of-type {\n",
       "        vertical-align: middle;\n",
       "    }\n",
       "\n",
       "    .dataframe tbody tr th {\n",
       "        vertical-align: top;\n",
       "    }\n",
       "\n",
       "    .dataframe thead th {\n",
       "        text-align: right;\n",
       "    }\n",
       "</style>\n",
       "<table border=\"1\" class=\"dataframe\">\n",
       "  <thead>\n",
       "    <tr style=\"text-align: right;\">\n",
       "      <th></th>\n",
       "      <th>gender</th>\n",
       "      <th>ssc_p</th>\n",
       "      <th>ssc_b</th>\n",
       "      <th>hsc_p</th>\n",
       "      <th>hsc_b</th>\n",
       "      <th>hsc_s</th>\n",
       "      <th>degree_p</th>\n",
       "      <th>degree_t</th>\n",
       "      <th>workex</th>\n",
       "      <th>etest_p</th>\n",
       "      <th>specialisation</th>\n",
       "      <th>mba_p</th>\n",
       "      <th>status</th>\n",
       "    </tr>\n",
       "  </thead>\n",
       "  <tbody>\n",
       "    <tr>\n",
       "      <th>0</th>\n",
       "      <td>1</td>\n",
       "      <td>67.00</td>\n",
       "      <td>1</td>\n",
       "      <td>91.00</td>\n",
       "      <td>1</td>\n",
       "      <td>1</td>\n",
       "      <td>58.00</td>\n",
       "      <td>2</td>\n",
       "      <td>0</td>\n",
       "      <td>55.0</td>\n",
       "      <td>1</td>\n",
       "      <td>58.80</td>\n",
       "      <td>1</td>\n",
       "    </tr>\n",
       "    <tr>\n",
       "      <th>1</th>\n",
       "      <td>1</td>\n",
       "      <td>79.33</td>\n",
       "      <td>0</td>\n",
       "      <td>78.33</td>\n",
       "      <td>1</td>\n",
       "      <td>2</td>\n",
       "      <td>77.48</td>\n",
       "      <td>2</td>\n",
       "      <td>1</td>\n",
       "      <td>86.5</td>\n",
       "      <td>0</td>\n",
       "      <td>66.28</td>\n",
       "      <td>1</td>\n",
       "    </tr>\n",
       "  </tbody>\n",
       "</table>\n",
       "</div>"
      ],
      "text/plain": [
       "   gender  ssc_p  ssc_b  hsc_p  hsc_b  hsc_s  degree_p  degree_t  workex  \\\n",
       "0       1  67.00      1  91.00      1      1     58.00         2       0   \n",
       "1       1  79.33      0  78.33      1      2     77.48         2       1   \n",
       "\n",
       "   etest_p  specialisation  mba_p  status  \n",
       "0     55.0               1  58.80       1  \n",
       "1     86.5               0  66.28       1  "
      ]
     },
     "execution_count": 31,
     "metadata": {},
     "output_type": "execute_result"
    }
   ],
   "source": [
    "d2=df.drop(columns=['sl_no','salary'])\n",
    "d2.head(2)"
   ]
  },
  {
   "cell_type": "code",
   "execution_count": 32,
   "id": "c71300cd",
   "metadata": {},
   "outputs": [
    {
     "data": {
      "text/plain": [
       "{'gender': {'F': 0, 'M': 1},\n",
       " 'ssc_b': {'Central': 0, 'Others': 1},\n",
       " 'hsc_b': {'Central': 0, 'Others': 1},\n",
       " 'hsc_s': {'Arts': 0, 'Commerce': 1, 'Science': 2},\n",
       " 'degree_t': {'Comm&Mgmt': 0, 'Others': 1, 'Sci&Tech': 2},\n",
       " 'workex': {'No': 0, 'Yes': 1},\n",
       " 'specialisation': {'Mkt&Fin': 0, 'Mkt&HR': 1},\n",
       " 'status': {'Not Placed': 0, 'Placed': 1}}"
      ]
     },
     "execution_count": 32,
     "metadata": {},
     "output_type": "execute_result"
    }
   ],
   "source": [
    "getmappings"
   ]
  },
  {
   "attachments": {},
   "cell_type": "markdown",
   "id": "c1df562d",
   "metadata": {},
   "source": [
    "## Numerical Columns EDA"
   ]
  },
  {
   "cell_type": "code",
   "execution_count": 33,
   "id": "b17bb64f",
   "metadata": {},
   "outputs": [],
   "source": [
    "numvar\n",
    "numvars=['ssc_p','hsc_p','degree_p', 'etest_p','mba_p','salary']\n"
   ]
  },
  {
   "cell_type": "code",
   "execution_count": 34,
   "id": "dcd839b4",
   "metadata": {},
   "outputs": [
    {
     "name": "stdout",
     "output_type": "stream",
     "text": [
      "Distribution plots for col : ssc_p are shown ↓\n"
     ]
    },
    {
     "data": {
      "image/png": "[encoded data removed]",
      "text/plain": [
       "<Figure size 800x500 with 3 Axes>"
      ]
     },
     "metadata": {},
     "output_type": "display_data"
    },
    {
     "name": "stdout",
     "output_type": "stream",
     "text": [
      "==========\n",
      "Distribution plots for col : hsc_p are shown ↓\n"
     ]
    },
    {
     "data": {
      "image/png": "[encoded data removed]",
      "text/plain": [
       "<Figure size 800x500 with 3 Axes>"
      ]
     },
     "metadata": {},
     "output_type": "display_data"
    },
    {
     "name": "stdout",
     "output_type": "stream",
     "text": [
      "==========\n",
      "Distribution plots for col : degree_p are shown ↓\n"
     ]
    },
    {
     "data": {
      "image/png": "[encoded data removed]",
      "text/plain": [
       "<Figure size 800x500 with 3 Axes>"
      ]
     },
     "metadata": {},
     "output_type": "display_data"
    },
    {
     "name": "stdout",
     "output_type": "stream",
     "text": [
      "==========\n",
      "Distribution plots for col : etest_p are shown ↓\n"
     ]
    },
    {
     "data": {
      "image/png": "[encoded data removed]",
      "text/plain": [
       "<Figure size 800x500 with 3 Axes>"
      ]
     },
     "metadata": {},
     "output_type": "display_data"
    },
    {
     "name": "stdout",
     "output_type": "stream",
     "text": [
      "==========\n",
      "Distribution plots for col : mba_p are shown ↓\n"
     ]
    },
    {
     "data": {
      "image/png": "[encoded data removed]",
      "text/plain": [
       "<Figure size 800x500 with 3 Axes>"
      ]
     },
     "metadata": {},
     "output_type": "display_data"
    },
    {
     "name": "stdout",
     "output_type": "stream",
     "text": [
      "==========\n",
      "Distribution plots for col : salary are shown ↓\n"
     ]
    },
    {
     "ename": "KeyError",
     "evalue": "'salary'",
     "output_type": "error",
     "traceback": [
      "\u001b[1;31m---------------------------------------------------------------------------\u001b[0m",
      "\u001b[1;31mKeyError\u001b[0m                                  Traceback (most recent call last)",
      "File \u001b[1;32m~\\AppData\\Local\\anaconda3\\lib\\site-packages\\pandas\\core\\indexes\\base.py:3802\u001b[0m, in \u001b[0;36mIndex.get_loc\u001b[1;34m(self, key, method, tolerance)\u001b[0m\n\u001b[0;32m   3801\u001b[0m \u001b[38;5;28;01mtry\u001b[39;00m:\n\u001b[1;32m-> 3802\u001b[0m     \u001b[38;5;28;01mreturn\u001b[39;00m \u001b[38;5;28;43mself\u001b[39;49m\u001b[38;5;241;43m.\u001b[39;49m\u001b[43m_engine\u001b[49m\u001b[38;5;241;43m.\u001b[39;49m\u001b[43mget_loc\u001b[49m\u001b[43m(\u001b[49m\u001b[43mcasted_key\u001b[49m\u001b[43m)\u001b[49m\n\u001b[0;32m   3803\u001b[0m \u001b[38;5;28;01mexcept\u001b[39;00m \u001b[38;5;167;01mKeyError\u001b[39;00m \u001b[38;5;28;01mas\u001b[39;00m err:\n",
      "File \u001b[1;32m~\\AppData\\Local\\anaconda3\\lib\\site-packages\\pandas\\_libs\\index.pyx:138\u001b[0m, in \u001b[0;36mpandas._libs.index.IndexEngine.get_loc\u001b[1;34m()\u001b[0m\n",
      "File \u001b[1;32m~\\AppData\\Local\\anaconda3\\lib\\site-packages\\pandas\\_libs\\index.pyx:165\u001b[0m, in \u001b[0;36mpandas._libs.index.IndexEngine.get_loc\u001b[1;34m()\u001b[0m\n",
      "File \u001b[1;32mpandas\\_libs\\hashtable_class_helper.pxi:5745\u001b[0m, in \u001b[0;36mpandas._libs.hashtable.PyObjectHashTable.get_item\u001b[1;34m()\u001b[0m\n",
      "File \u001b[1;32mpandas\\_libs\\hashtable_class_helper.pxi:5753\u001b[0m, in \u001b[0;36mpandas._libs.hashtable.PyObjectHashTable.get_item\u001b[1;34m()\u001b[0m\n",
      "\u001b[1;31mKeyError\u001b[0m: 'salary'",
      "\nThe above exception was the direct cause of the following exception:\n",
      "\u001b[1;31mKeyError\u001b[0m                                  Traceback (most recent call last)",
      "Cell \u001b[1;32mIn[34], line 20\u001b[0m\n\u001b[0;32m     18\u001b[0m \u001b[38;5;28;01mfor\u001b[39;00m col \u001b[38;5;129;01min\u001b[39;00m numvars:\n\u001b[0;32m     19\u001b[0m     \u001b[38;5;28mprint\u001b[39m(\u001b[38;5;124mf\u001b[39m\u001b[38;5;124m'\u001b[39m\u001b[38;5;124mDistribution plots for col : \u001b[39m\u001b[38;5;132;01m{\u001b[39;00mcol\u001b[38;5;132;01m}\u001b[39;00m\u001b[38;5;124m are shown ↓\u001b[39m\u001b[38;5;124m'\u001b[39m)\n\u001b[1;32m---> 20\u001b[0m     \u001b[43mgetplots\u001b[49m\u001b[43m(\u001b[49m\u001b[43md2\u001b[49m\u001b[43m,\u001b[49m\u001b[43mcol\u001b[49m\u001b[43m)\u001b[49m\n\u001b[0;32m     21\u001b[0m     \u001b[38;5;28mprint\u001b[39m(\u001b[38;5;124m'\u001b[39m\u001b[38;5;124m=\u001b[39m\u001b[38;5;124m'\u001b[39m\u001b[38;5;241m*\u001b[39m\u001b[38;5;241m10\u001b[39m)\n",
      "Cell \u001b[1;32mIn[34], line 7\u001b[0m, in \u001b[0;36mgetplots\u001b[1;34m(df, col)\u001b[0m\n\u001b[0;32m      5\u001b[0m plt\u001b[38;5;241m.\u001b[39mfigure(figsize\u001b[38;5;241m=\u001b[39m(\u001b[38;5;241m8\u001b[39m,\u001b[38;5;241m5\u001b[39m))\n\u001b[0;32m      6\u001b[0m plt\u001b[38;5;241m.\u001b[39msubplot(\u001b[38;5;241m1\u001b[39m,\u001b[38;5;241m3\u001b[39m,\u001b[38;5;241m1\u001b[39m)\n\u001b[1;32m----> 7\u001b[0m plt\u001b[38;5;241m.\u001b[39mhist(\u001b[43mdf\u001b[49m\u001b[43m[\u001b[49m\u001b[43mcol\u001b[49m\u001b[43m]\u001b[49m,color\u001b[38;5;241m=\u001b[39m\u001b[38;5;124m'\u001b[39m\u001b[38;5;124mmagenta\u001b[39m\u001b[38;5;124m'\u001b[39m)\n\u001b[0;32m      9\u001b[0m plt\u001b[38;5;241m.\u001b[39msubplot(\u001b[38;5;241m1\u001b[39m,\u001b[38;5;241m3\u001b[39m,\u001b[38;5;241m2\u001b[39m)\n\u001b[0;32m     10\u001b[0m stats\u001b[38;5;241m.\u001b[39mprobplot(df[col],dist\u001b[38;5;241m=\u001b[39m\u001b[38;5;124m'\u001b[39m\u001b[38;5;124mnorm\u001b[39m\u001b[38;5;124m'\u001b[39m,plot\u001b[38;5;241m=\u001b[39mplt)\n",
      "File \u001b[1;32m~\\AppData\\Local\\anaconda3\\lib\\site-packages\\pandas\\core\\frame.py:3807\u001b[0m, in \u001b[0;36mDataFrame.__getitem__\u001b[1;34m(self, key)\u001b[0m\n\u001b[0;32m   3805\u001b[0m \u001b[38;5;28;01mif\u001b[39;00m \u001b[38;5;28mself\u001b[39m\u001b[38;5;241m.\u001b[39mcolumns\u001b[38;5;241m.\u001b[39mnlevels \u001b[38;5;241m>\u001b[39m \u001b[38;5;241m1\u001b[39m:\n\u001b[0;32m   3806\u001b[0m     \u001b[38;5;28;01mreturn\u001b[39;00m \u001b[38;5;28mself\u001b[39m\u001b[38;5;241m.\u001b[39m_getitem_multilevel(key)\n\u001b[1;32m-> 3807\u001b[0m indexer \u001b[38;5;241m=\u001b[39m \u001b[38;5;28;43mself\u001b[39;49m\u001b[38;5;241;43m.\u001b[39;49m\u001b[43mcolumns\u001b[49m\u001b[38;5;241;43m.\u001b[39;49m\u001b[43mget_loc\u001b[49m\u001b[43m(\u001b[49m\u001b[43mkey\u001b[49m\u001b[43m)\u001b[49m\n\u001b[0;32m   3808\u001b[0m \u001b[38;5;28;01mif\u001b[39;00m is_integer(indexer):\n\u001b[0;32m   3809\u001b[0m     indexer \u001b[38;5;241m=\u001b[39m [indexer]\n",
      "File \u001b[1;32m~\\AppData\\Local\\anaconda3\\lib\\site-packages\\pandas\\core\\indexes\\base.py:3804\u001b[0m, in \u001b[0;36mIndex.get_loc\u001b[1;34m(self, key, method, tolerance)\u001b[0m\n\u001b[0;32m   3802\u001b[0m     \u001b[38;5;28;01mreturn\u001b[39;00m \u001b[38;5;28mself\u001b[39m\u001b[38;5;241m.\u001b[39m_engine\u001b[38;5;241m.\u001b[39mget_loc(casted_key)\n\u001b[0;32m   3803\u001b[0m \u001b[38;5;28;01mexcept\u001b[39;00m \u001b[38;5;167;01mKeyError\u001b[39;00m \u001b[38;5;28;01mas\u001b[39;00m err:\n\u001b[1;32m-> 3804\u001b[0m     \u001b[38;5;28;01mraise\u001b[39;00m \u001b[38;5;167;01mKeyError\u001b[39;00m(key) \u001b[38;5;28;01mfrom\u001b[39;00m \u001b[38;5;21;01merr\u001b[39;00m\n\u001b[0;32m   3805\u001b[0m \u001b[38;5;28;01mexcept\u001b[39;00m \u001b[38;5;167;01mTypeError\u001b[39;00m:\n\u001b[0;32m   3806\u001b[0m     \u001b[38;5;66;03m# If we have a listlike key, _check_indexing_error will raise\u001b[39;00m\n\u001b[0;32m   3807\u001b[0m     \u001b[38;5;66;03m#  InvalidIndexError. Otherwise we fall through and re-raise\u001b[39;00m\n\u001b[0;32m   3808\u001b[0m     \u001b[38;5;66;03m#  the TypeError.\u001b[39;00m\n\u001b[0;32m   3809\u001b[0m     \u001b[38;5;28mself\u001b[39m\u001b[38;5;241m.\u001b[39m_check_indexing_error(key)\n",
      "\u001b[1;31mKeyError\u001b[0m: 'salary'"
     ]
    },
    {
     "data": {
      "image/png": "[encoded data removed]",
      "text/plain": [
       "<Figure size 800x500 with 1 Axes>"
      ]
     },
     "metadata": {},
     "output_type": "display_data"
    }
   ],
   "source": [
    "import scipy.stats as stats\n",
    "\n",
    "def getplots(df,col):\n",
    "    \n",
    "    plt.figure(figsize=(8,5))\n",
    "    plt.subplot(1,3,1)\n",
    "    plt.hist(df[col],color='magenta')\n",
    "    \n",
    "    plt.subplot(1,3,2)\n",
    "    stats.probplot(df[col],dist='norm',plot=plt)\n",
    "    \n",
    "    plt.subplot(1,3,3)\n",
    "    sns.boxplot(df[col],color='magenta')\n",
    "    \n",
    "    plt.show()\n",
    "    \n",
    "    \n",
    "for col in numvars:\n",
    "    print(f'Distribution plots for col : {col} are shown ↓')\n",
    "    getplots(d2,col)\n",
    "    print('='*10)"
   ]
  },
  {
   "cell_type": "code",
   "execution_count": 35,
   "id": "5cad54b4",
   "metadata": {},
   "outputs": [],
   "source": [
    "# Feature Selection"
   ]
  },
  {
   "cell_type": "code",
   "execution_count": 36,
   "id": "79045eaa",
   "metadata": {},
   "outputs": [
    {
     "data": {
      "text/plain": [
       "<Axes: >"
      ]
     },
     "execution_count": 36,
     "metadata": {},
     "output_type": "execute_result"
    },
    {
     "data": {
      "image/png": "[encoded data removed]",
      "text/plain": [
       "<Figure size 1500x700 with 2 Axes>"
      ]
     },
     "metadata": {},
     "output_type": "display_data"
    }
   ],
   "source": [
    "#checking for tightly correlated features\n",
    "\n",
    "plt.figure(figsize=(15,7))\n",
    "sns.heatmap(d2.corr(),annot=True,cmap='plasma')"
   ]
  },
  {
   "cell_type": "code",
   "execution_count": 37,
   "id": "535d8816",
   "metadata": {},
   "outputs": [
    {
     "data": {
      "text/html": [
       "<div>\n",
       "<style scoped>\n",
       "    .dataframe tbody tr th:only-of-type {\n",
       "        vertical-align: middle;\n",
       "    }\n",
       "\n",
       "    .dataframe tbody tr th {\n",
       "        vertical-align: top;\n",
       "    }\n",
       "\n",
       "    .dataframe thead th {\n",
       "        text-align: right;\n",
       "    }\n",
       "</style>\n",
       "<table border=\"1\" class=\"dataframe\">\n",
       "  <thead>\n",
       "    <tr style=\"text-align: right;\">\n",
       "      <th></th>\n",
       "      <th>gender</th>\n",
       "      <th>ssc_p</th>\n",
       "      <th>ssc_b</th>\n",
       "      <th>hsc_p</th>\n",
       "      <th>hsc_b</th>\n",
       "      <th>hsc_s</th>\n",
       "      <th>degree_p</th>\n",
       "      <th>degree_t</th>\n",
       "      <th>workex</th>\n",
       "      <th>etest_p</th>\n",
       "      <th>specialisation</th>\n",
       "      <th>mba_p</th>\n",
       "      <th>status</th>\n",
       "    </tr>\n",
       "  </thead>\n",
       "  <tbody>\n",
       "    <tr>\n",
       "      <th>0</th>\n",
       "      <td>1</td>\n",
       "      <td>67.00</td>\n",
       "      <td>1</td>\n",
       "      <td>91.00</td>\n",
       "      <td>1</td>\n",
       "      <td>1</td>\n",
       "      <td>58.00</td>\n",
       "      <td>2</td>\n",
       "      <td>0</td>\n",
       "      <td>55.0</td>\n",
       "      <td>1</td>\n",
       "      <td>58.80</td>\n",
       "      <td>1</td>\n",
       "    </tr>\n",
       "    <tr>\n",
       "      <th>1</th>\n",
       "      <td>1</td>\n",
       "      <td>79.33</td>\n",
       "      <td>0</td>\n",
       "      <td>78.33</td>\n",
       "      <td>1</td>\n",
       "      <td>2</td>\n",
       "      <td>77.48</td>\n",
       "      <td>2</td>\n",
       "      <td>1</td>\n",
       "      <td>86.5</td>\n",
       "      <td>0</td>\n",
       "      <td>66.28</td>\n",
       "      <td>1</td>\n",
       "    </tr>\n",
       "  </tbody>\n",
       "</table>\n",
       "</div>"
      ],
      "text/plain": [
       "   gender  ssc_p  ssc_b  hsc_p  hsc_b  hsc_s  degree_p  degree_t  workex  \\\n",
       "0       1  67.00      1  91.00      1      1     58.00         2       0   \n",
       "1       1  79.33      0  78.33      1      2     77.48         2       1   \n",
       "\n",
       "   etest_p  specialisation  mba_p  status  \n",
       "0     55.0               1  58.80       1  \n",
       "1     86.5               0  66.28       1  "
      ]
     },
     "execution_count": 37,
     "metadata": {},
     "output_type": "execute_result"
    }
   ],
   "source": [
    "d2.head(2)"
   ]
  },
  {
   "cell_type": "code",
   "execution_count": 38,
   "id": "64e6c17b",
   "metadata": {},
   "outputs": [],
   "source": [
    "x=d2.iloc[:,:-1]\n",
    "y=d2['status']"
   ]
  },
  {
   "cell_type": "code",
   "execution_count": 41,
   "id": "3dfda70f",
   "metadata": {},
   "outputs": [
    {
     "data": {
      "text/plain": [
       "Index(['gender', 'ssc_p', 'ssc_b', 'hsc_p', 'hsc_b', 'hsc_s', 'degree_p',\n",
       "       'degree_t', 'workex', 'etest_p', 'specialisation', 'mba_p'],\n",
       "      dtype='object')"
      ]
     },
     "execution_count": 41,
     "metadata": {},
     "output_type": "execute_result"
    }
   ],
   "source": [
    "x.columns"
   ]
  },
  {
   "cell_type": "code",
   "execution_count": 42,
   "id": "18c97694",
   "metadata": {},
   "outputs": [
    {
     "data": {
      "text/plain": [
       "{'gender': {'F': 0, 'M': 1},\n",
       " 'ssc_b': {'Central': 0, 'Others': 1},\n",
       " 'hsc_b': {'Central': 0, 'Others': 1},\n",
       " 'hsc_s': {'Arts': 0, 'Commerce': 1, 'Science': 2},\n",
       " 'degree_t': {'Comm&Mgmt': 0, 'Others': 1, 'Sci&Tech': 2},\n",
       " 'workex': {'No': 0, 'Yes': 1},\n",
       " 'specialisation': {'Mkt&Fin': 0, 'Mkt&HR': 1},\n",
       " 'status': {'Not Placed': 0, 'Placed': 1}}"
      ]
     },
     "execution_count": 42,
     "metadata": {},
     "output_type": "execute_result"
    }
   ],
   "source": [
    "'''\n",
    "From the above DF we notice that gender,specialisation,degree_t,workex are the \n",
    "categorical columns and they make sense isn't it?,for any placement drive\n",
    "students are first filtered on basis of their boards,sem scores which in this case are {mba_p,ssc_p,degree_p,hsc_p}\n",
    "and then workexperience also matters a lot!,then specialisation as well,gender is also important\n",
    "because now-a-days few companies focus on women empowerment,so yes,all the features make perfect sense!\n",
    "\n",
    "'''\n",
    "getmappings"
   ]
  },
  {
   "cell_type": "code",
   "execution_count": null,
   "id": "37b90825",
   "metadata": {},
   "outputs": [],
   "source": [
    "## extratrees classifier\n",
    "\n",
    "from sklearn.ensemble import ExtraTreesClassifier\n",
    "ec = ExtraTreesClassifier()\n",
    "ec.fit(train,test)\n",
    "\n",
    "featbar = pd.Series(ec.feature_importances_,index=train.columns)\n",
    "featbar.nlargest(7).plot(kind = 'barh')\n",
    "\n",
    "featbar.nlargest(7).plot(kind='pie',autopct='%1.0f%%',figsize = (15,7))"
   ]
  },
  {
   "cell_type": "code",
   "execution_count": null,
   "id": "ec7b23e8",
   "metadata": {},
   "outputs": [],
   "source": [
    "# mutual classif\n",
    "\n",
    "from sklearn.feature_selection import mutual_info_classif\n",
    "mc = mutual_info_classif(train,test)\n",
    "ax = pd.Series(mc,index=train.columns)\n",
    "ax.nlargest(7).plot(kind = 'barh')"
   ]
  },
  {
   "cell_type": "code",
   "execution_count": null,
   "id": "88a8e651",
   "metadata": {},
   "outputs": [],
   "source": [
    "pd.Series(mc,index=train.columns).plot(kind = 'pie',autopct='%1.0f%%',figsize = (15,7))"
   ]
  },
  {
   "cell_type": "code",
   "execution_count": null,
   "id": "c2d93b08",
   "metadata": {},
   "outputs": [],
   "source": [
    "'''\n",
    "Selecting the top 10 contributing features in both cases\n",
    "and then we will do the intersection of both the results\n",
    "so that we will get atleast top 5 most contributing features!\n",
    "\n",
    "'''\n",
    "\n",
    "featcol = list(featbar.nlargest(10).index)\n",
    "mutclasif = list(ax.nlargest(10).index)\n",
    "commoncols = list(set(featcol).intersection(set(mutclasif)))\n",
    "print(commoncols)"
   ]
  },
  {
   "cell_type": "code",
   "execution_count": null,
   "id": "f3855ac9",
   "metadata": {},
   "outputs": [],
   "source": [
    "'''\n",
    "From the above DF we notice that gender,specialisation,degree_t,workex are the \n",
    "categorical columns and they make sense isn't it?,for any placement drive\n",
    "students are first filtered on basis of their boards,sem scores which in this case are {mba_p,ssc_p,degree_p,hsc_p}\n",
    "and then workexperience also matters a lot!,then specialisation as well,gender is also important\n",
    "because now-a-days few companies focus on women empowerment,so yes,all the features make perfect sense!\n",
    "\n",
    "'''\n",
    "getmappings"
   ]
  },
  {
   "cell_type": "code",
   "execution_count": 43,
   "id": "c5bb62fc",
   "metadata": {},
   "outputs": [
    {
     "data": {
      "text/html": [
       "<div>\n",
       "<style scoped>\n",
       "    .dataframe tbody tr th:only-of-type {\n",
       "        vertical-align: middle;\n",
       "    }\n",
       "\n",
       "    .dataframe tbody tr th {\n",
       "        vertical-align: top;\n",
       "    }\n",
       "\n",
       "    .dataframe thead th {\n",
       "        text-align: right;\n",
       "    }\n",
       "</style>\n",
       "<table border=\"1\" class=\"dataframe\">\n",
       "  <thead>\n",
       "    <tr style=\"text-align: right;\">\n",
       "      <th></th>\n",
       "      <th>Gender</th>\n",
       "      <th>Specialisation</th>\n",
       "      <th>Techinal Degree</th>\n",
       "      <th>Work Experience</th>\n",
       "      <th>SSC_p</th>\n",
       "      <th>High School_p</th>\n",
       "      <th>Degree_p</th>\n",
       "      <th>MBA_p</th>\n",
       "    </tr>\n",
       "  </thead>\n",
       "  <tbody>\n",
       "    <tr>\n",
       "      <th>0</th>\n",
       "      <td>1</td>\n",
       "      <td>1</td>\n",
       "      <td>2</td>\n",
       "      <td>0</td>\n",
       "      <td>67.00</td>\n",
       "      <td>91.00</td>\n",
       "      <td>58.00</td>\n",
       "      <td>58.80</td>\n",
       "    </tr>\n",
       "    <tr>\n",
       "      <th>1</th>\n",
       "      <td>1</td>\n",
       "      <td>0</td>\n",
       "      <td>2</td>\n",
       "      <td>1</td>\n",
       "      <td>79.33</td>\n",
       "      <td>78.33</td>\n",
       "      <td>77.48</td>\n",
       "      <td>66.28</td>\n",
       "    </tr>\n",
       "    <tr>\n",
       "      <th>2</th>\n",
       "      <td>1</td>\n",
       "      <td>0</td>\n",
       "      <td>0</td>\n",
       "      <td>0</td>\n",
       "      <td>65.00</td>\n",
       "      <td>68.00</td>\n",
       "      <td>64.00</td>\n",
       "      <td>57.80</td>\n",
       "    </tr>\n",
       "    <tr>\n",
       "      <th>3</th>\n",
       "      <td>1</td>\n",
       "      <td>1</td>\n",
       "      <td>2</td>\n",
       "      <td>0</td>\n",
       "      <td>56.00</td>\n",
       "      <td>52.00</td>\n",
       "      <td>52.00</td>\n",
       "      <td>59.43</td>\n",
       "    </tr>\n",
       "    <tr>\n",
       "      <th>4</th>\n",
       "      <td>1</td>\n",
       "      <td>0</td>\n",
       "      <td>0</td>\n",
       "      <td>0</td>\n",
       "      <td>85.80</td>\n",
       "      <td>73.60</td>\n",
       "      <td>73.30</td>\n",
       "      <td>55.50</td>\n",
       "    </tr>\n",
       "  </tbody>\n",
       "</table>\n",
       "</div>"
      ],
      "text/plain": [
       "   Gender  Specialisation  Techinal Degree  Work Experience  SSC_p  \\\n",
       "0       1               1                2                0  67.00   \n",
       "1       1               0                2                1  79.33   \n",
       "2       1               0                0                0  65.00   \n",
       "3       1               1                2                0  56.00   \n",
       "4       1               0                0                0  85.80   \n",
       "\n",
       "   High School_p  Degree_p  MBA_p  \n",
       "0          91.00     58.00  58.80  \n",
       "1          78.33     77.48  66.28  \n",
       "2          68.00     64.00  57.80  \n",
       "3          52.00     52.00  59.43  \n",
       "4          73.60     73.30  55.50  "
      ]
     },
     "execution_count": 43,
     "metadata": {},
     "output_type": "execute_result"
    }
   ],
   "source": [
    "train = x[['gender','specialisation','degree_t','workex','ssc_p','hsc_p','degree_p','mba_p']]\n",
    "train.columns =['Gender','Specialisation','Techinal Degree','Work Experience','SSC_p','High School_p','Degree_p','MBA_p']\n",
    "train.head()"
   ]
  },
  {
   "cell_type": "code",
   "execution_count": 44,
   "id": "5ec4bf33",
   "metadata": {},
   "outputs": [
    {
     "data": {
      "text/html": [
       "<div>\n",
       "<style scoped>\n",
       "    .dataframe tbody tr th:only-of-type {\n",
       "        vertical-align: middle;\n",
       "    }\n",
       "\n",
       "    .dataframe tbody tr th {\n",
       "        vertical-align: top;\n",
       "    }\n",
       "\n",
       "    .dataframe thead th {\n",
       "        text-align: right;\n",
       "    }\n",
       "</style>\n",
       "<table border=\"1\" class=\"dataframe\">\n",
       "  <thead>\n",
       "    <tr style=\"text-align: right;\">\n",
       "      <th></th>\n",
       "      <th>gender</th>\n",
       "      <th>ssc_p</th>\n",
       "      <th>ssc_b</th>\n",
       "      <th>hsc_p</th>\n",
       "      <th>hsc_b</th>\n",
       "      <th>hsc_s</th>\n",
       "      <th>degree_p</th>\n",
       "      <th>degree_t</th>\n",
       "      <th>workex</th>\n",
       "      <th>etest_p</th>\n",
       "      <th>specialisation</th>\n",
       "      <th>mba_p</th>\n",
       "      <th>status</th>\n",
       "    </tr>\n",
       "  </thead>\n",
       "  <tbody>\n",
       "    <tr>\n",
       "      <th>0</th>\n",
       "      <td>1</td>\n",
       "      <td>67.00</td>\n",
       "      <td>1</td>\n",
       "      <td>91.00</td>\n",
       "      <td>1</td>\n",
       "      <td>1</td>\n",
       "      <td>58.00</td>\n",
       "      <td>2</td>\n",
       "      <td>0</td>\n",
       "      <td>55.0</td>\n",
       "      <td>1</td>\n",
       "      <td>58.80</td>\n",
       "      <td>1</td>\n",
       "    </tr>\n",
       "    <tr>\n",
       "      <th>1</th>\n",
       "      <td>1</td>\n",
       "      <td>79.33</td>\n",
       "      <td>0</td>\n",
       "      <td>78.33</td>\n",
       "      <td>1</td>\n",
       "      <td>2</td>\n",
       "      <td>77.48</td>\n",
       "      <td>2</td>\n",
       "      <td>1</td>\n",
       "      <td>86.5</td>\n",
       "      <td>0</td>\n",
       "      <td>66.28</td>\n",
       "      <td>1</td>\n",
       "    </tr>\n",
       "  </tbody>\n",
       "</table>\n",
       "</div>"
      ],
      "text/plain": [
       "   gender  ssc_p  ssc_b  hsc_p  hsc_b  hsc_s  degree_p  degree_t  workex  \\\n",
       "0       1  67.00      1  91.00      1      1     58.00         2       0   \n",
       "1       1  79.33      0  78.33      1      2     77.48         2       1   \n",
       "\n",
       "   etest_p  specialisation  mba_p  status  \n",
       "0     55.0               1  58.80       1  \n",
       "1     86.5               0  66.28       1  "
      ]
     },
     "execution_count": 44,
     "metadata": {},
     "output_type": "execute_result"
    }
   ],
   "source": [
    "d2.head(2)"
   ]
  },
  {
   "cell_type": "code",
   "execution_count": 45,
   "id": "cf50b8af",
   "metadata": {},
   "outputs": [
    {
     "data": {
      "text/plain": [
       "Index(['gender', 'ssc_p', 'ssc_b', 'hsc_p', 'hsc_b', 'hsc_s', 'degree_p',\n",
       "       'degree_t', 'workex', 'etest_p', 'specialisation', 'mba_p'],\n",
       "      dtype='object')"
      ]
     },
     "execution_count": 45,
     "metadata": {},
     "output_type": "execute_result"
    }
   ],
   "source": [
    "x.columns"
   ]
  },
  {
   "cell_type": "code",
   "execution_count": 46,
   "id": "3c3366d8",
   "metadata": {},
   "outputs": [
    {
     "data": {
      "text/html": [
       "<div>\n",
       "<style scoped>\n",
       "    .dataframe tbody tr th:only-of-type {\n",
       "        vertical-align: middle;\n",
       "    }\n",
       "\n",
       "    .dataframe tbody tr th {\n",
       "        vertical-align: top;\n",
       "    }\n",
       "\n",
       "    .dataframe thead th {\n",
       "        text-align: right;\n",
       "    }\n",
       "</style>\n",
       "<table border=\"1\" class=\"dataframe\">\n",
       "  <thead>\n",
       "    <tr style=\"text-align: right;\">\n",
       "      <th></th>\n",
       "      <th>Gender</th>\n",
       "      <th>Specialisation</th>\n",
       "      <th>Techinal Degree</th>\n",
       "      <th>Work Experience</th>\n",
       "      <th>SSC_p</th>\n",
       "      <th>High School_p</th>\n",
       "      <th>Degree_p</th>\n",
       "      <th>MBA_p</th>\n",
       "    </tr>\n",
       "  </thead>\n",
       "  <tbody>\n",
       "    <tr>\n",
       "      <th>0</th>\n",
       "      <td>1</td>\n",
       "      <td>1</td>\n",
       "      <td>2</td>\n",
       "      <td>0</td>\n",
       "      <td>67.00</td>\n",
       "      <td>91.00</td>\n",
       "      <td>58.00</td>\n",
       "      <td>58.80</td>\n",
       "    </tr>\n",
       "    <tr>\n",
       "      <th>1</th>\n",
       "      <td>1</td>\n",
       "      <td>0</td>\n",
       "      <td>2</td>\n",
       "      <td>1</td>\n",
       "      <td>79.33</td>\n",
       "      <td>78.33</td>\n",
       "      <td>77.48</td>\n",
       "      <td>66.28</td>\n",
       "    </tr>\n",
       "    <tr>\n",
       "      <th>2</th>\n",
       "      <td>1</td>\n",
       "      <td>0</td>\n",
       "      <td>0</td>\n",
       "      <td>0</td>\n",
       "      <td>65.00</td>\n",
       "      <td>68.00</td>\n",
       "      <td>64.00</td>\n",
       "      <td>57.80</td>\n",
       "    </tr>\n",
       "    <tr>\n",
       "      <th>3</th>\n",
       "      <td>1</td>\n",
       "      <td>1</td>\n",
       "      <td>2</td>\n",
       "      <td>0</td>\n",
       "      <td>56.00</td>\n",
       "      <td>52.00</td>\n",
       "      <td>52.00</td>\n",
       "      <td>59.43</td>\n",
       "    </tr>\n",
       "    <tr>\n",
       "      <th>4</th>\n",
       "      <td>1</td>\n",
       "      <td>0</td>\n",
       "      <td>0</td>\n",
       "      <td>0</td>\n",
       "      <td>85.80</td>\n",
       "      <td>73.60</td>\n",
       "      <td>73.30</td>\n",
       "      <td>55.50</td>\n",
       "    </tr>\n",
       "  </tbody>\n",
       "</table>\n",
       "</div>"
      ],
      "text/plain": [
       "   Gender  Specialisation  Techinal Degree  Work Experience  SSC_p  \\\n",
       "0       1               1                2                0  67.00   \n",
       "1       1               0                2                1  79.33   \n",
       "2       1               0                0                0  65.00   \n",
       "3       1               1                2                0  56.00   \n",
       "4       1               0                0                0  85.80   \n",
       "\n",
       "   High School_p  Degree_p  MBA_p  \n",
       "0          91.00     58.00  58.80  \n",
       "1          78.33     77.48  66.28  \n",
       "2          68.00     64.00  57.80  \n",
       "3          52.00     52.00  59.43  \n",
       "4          73.60     73.30  55.50  "
      ]
     },
     "execution_count": 46,
     "metadata": {},
     "output_type": "execute_result"
    }
   ],
   "source": [
    "#Selecting and # renaming the cols for model\n",
    "train = x[['gender','specialisation','degree_t','workex','ssc_p','hsc_p','degree_p','mba_p']]\n",
    "train.columns = ['Gender','Specialisation','Techinal Degree','Work Experience','SSC_p','High School_p','Degree_p','MBA_p']\n",
    "train.head()\n"
   ]
  },
  {
   "cell_type": "code",
   "execution_count": 47,
   "id": "07c3af51",
   "metadata": {},
   "outputs": [
    {
     "data": {
      "text/plain": [
       "0    145\n",
       "2     59\n",
       "1     11\n",
       "Name: Techinal Degree, dtype: int64"
      ]
     },
     "execution_count": 47,
     "metadata": {},
     "output_type": "execute_result"
    }
   ],
   "source": [
    "train['Techinal Degree'].value_counts()"
   ]
  },
  {
   "cell_type": "code",
   "execution_count": 48,
   "id": "6c1bfc0f",
   "metadata": {},
   "outputs": [
    {
     "data": {
      "text/plain": [
       "((172, 8), (43, 8))"
      ]
     },
     "execution_count": 48,
     "metadata": {},
     "output_type": "execute_result"
    }
   ],
   "source": [
    "X_train, X_test, y_train, y_test = train_test_split(train,y,test_size=0.2,random_state=21)\n",
    "X_train.shape,X_test.shape"
   ]
  },
  {
   "cell_type": "code",
   "execution_count": 52,
   "id": "d246f493",
   "metadata": {},
   "outputs": [],
   "source": [
    "from sklearn.svm import SVC"
   ]
  },
  {
   "cell_type": "code",
   "execution_count": 49,
   "id": "34a8d335",
   "metadata": {},
   "outputs": [],
   "source": [
    "models=[(\"LR\",LogisticRegression()),\n",
    "       (\"Dt\",DecisionTreeClassifier()),\n",
    "       (\"Rf\",RandomForestClassifier()),\n",
    "       (\"SVM\",SVC())]"
   ]
  },
  {
   "cell_type": "code",
   "execution_count": 50,
   "id": "b518176d",
   "metadata": {},
   "outputs": [
    {
     "data": {
      "text/plain": [
       "[('LR', 0.8604651162790697),\n",
       " ('Dt', 0.7674418604651163),\n",
       " ('Rf', 0.813953488372093),\n",
       " ('SVM', 0.7906976744186046)]"
      ]
     },
     "execution_count": 50,
     "metadata": {},
     "output_type": "execute_result"
    }
   ],
   "source": [
    "final_result=[]\n",
    "for name,model in models:\n",
    "    model.fit(X_train,y_train) # train the model\n",
    "    score=model.score(X_test,y_test)\n",
    "    y_predicted = model.predict(X_test)\n",
    "    \n",
    "    \n",
    "    final_result.append((name,score))\n",
    "final_result"
   ]
  },
  {
   "attachments": {},
   "cell_type": "markdown",
   "id": "1aad15ae",
   "metadata": {},
   "source": [
    "## Hyperparameter Tuning"
   ]
  },
  {
   "cell_type": "code",
   "execution_count": 55,
   "id": "076938b8",
   "metadata": {},
   "outputs": [],
   "source": [
    "params = {\n",
    "    'RandomForest':{\n",
    "        'model': RandomForestClassifier(),\n",
    "        'params':{\n",
    "            'n_estimators': [int(x) for x in np.linspace(start=1,stop=1200,num=10)],\n",
    "            'max_depth':[int(x) for x in np.linspace(start=1,stop=30,num=5)],\n",
    "            'min_samples_split':[2,5,10,12],\n",
    "            'min_samples_leaf':[2,5,10,12],\n",
    "            'max_features':['auto','sqrt'],\n",
    "        }\n",
    "    },\n",
    "    \n",
    "    'logistic':{\n",
    "        'model':LogisticRegression(),\n",
    "        'params':{\n",
    "            'penalty':['l1', 'l2', 'elasticnet'],\n",
    "            'C':[0.25,0.50,0.75,1.0],\n",
    "            'tol':[1e-10,1e-5,1e-4,1e-3,0.025,0.25,0.50],\n",
    "            'solver':['lbfgs','liblinear','saga','newton-cg'],\n",
    "            'multi_class':['auto', 'ovr', 'multinomial'],\n",
    "            'max_iter':[int(x) for x in np.linspace(start=1,stop=250,num=10)],\n",
    "        }\n",
    "    },\n",
    "    'D-tree':{\n",
    "        'model':DecisionTreeClassifier(),\n",
    "        'params':{\n",
    "            'criterion':['gini','entropy'],\n",
    "            'splitter':['best','random'],\n",
    "            'min_samples_split':[1,2,5,10,12],\n",
    "            'min_samples_leaf':[1,2,5,10,12],\n",
    "            'max_features':['auto','sqrt'],\n",
    "        }\n",
    "    },\n",
    "    'SVM':{\n",
    "        'model':SVC(),\n",
    "        'params':{\n",
    "            'C':[0.25,0.50,0.75,1.0],\n",
    "            'tol':[1e-10,1e-5,1e-4,0.025,0.50,0.75],\n",
    "            'kernel':['linear','poly','sigmoid','rbf'],\n",
    "            'max_iter':[int(x) for x in np.linspace(start=1,stop=250,num=10)],\n",
    "        }\n",
    "    }\n",
    "}"
   ]
  },
  {
   "cell_type": "code",
   "execution_count": null,
   "id": "33070043",
   "metadata": {},
   "outputs": [],
   "source": [
    "scores = []\n",
    "for model_name,mp in params.items():\n",
    "    \n",
    "     grid_search= GridSearchCV(mp['model'],param_grid=mp['params'],cv=5,n_jobs=-1,scoring='accuracy')\n",
    "     grid_search.fit(X_train,y_train)\n",
    "     scores.append({\n",
    "        'model_name':model_name,\n",
    "        'best_score':grid_search.best_score_,\n",
    "        'best_estimator':grid_search.best_estimator_})"
   ]
  },
  {
   "cell_type": "code",
   "execution_count": null,
   "id": "34a5eb14",
   "metadata": {},
   "outputs": [],
   "source": [
    "scores_df = pd.DataFrame(data = scores,columns = ['model_name','best_score','best_estimator'])\n",
    "scores_df.head()"
   ]
  },
  {
   "cell_type": "code",
   "execution_count": null,
   "id": "7c1f1f1e",
   "metadata": {},
   "outputs": [],
   "source": [
    "scores"
   ]
  },
  {
   "cell_type": "code",
   "execution_count": 56,
   "id": "0da8e66c",
   "metadata": {},
   "outputs": [
    {
     "name": "stdout",
     "output_type": "stream",
     "text": [
      "0.813953488372093\n"
     ]
    }
   ],
   "source": [
    "# random forest model\n",
    "from sklearn.metrics import accuracy_score,confusion_matrix\n",
    "from sklearn.metrics import classification_report\n",
    "\n",
    "\n",
    "rf = RandomForestClassifier()#ccp_alpha=0.02, max_depth=30, max_features='sqrt',\n",
    "                         #min_samples_leaf=2, min_samples_split=12,\n",
    "                         #n_estimators=267)\n",
    "rf.fit(X_train,y_train)\n",
    "y_pred_rf = rf.predict(X_test)\n",
    "print(accuracy_score(y_test,y_pred_rf))"
   ]
  },
  {
   "cell_type": "code",
   "execution_count": 57,
   "id": "ae4a0b15",
   "metadata": {},
   "outputs": [
    {
     "name": "stdout",
     "output_type": "stream",
     "text": [
      "              precision    recall  f1-score   support\n",
      "\n",
      "           0       0.85      0.65      0.73        17\n",
      "           1       0.80      0.92      0.86        26\n",
      "\n",
      "    accuracy                           0.81        43\n",
      "   macro avg       0.82      0.79      0.80        43\n",
      "weighted avg       0.82      0.81      0.81        43\n",
      "\n"
     ]
    }
   ],
   "source": [
    "print(classification_report(y_test,y_pred_rf))"
   ]
  },
  {
   "attachments": {},
   "cell_type": "markdown",
   "id": "45457c8c",
   "metadata": {},
   "source": [
    "# Model Testing"
   ]
  },
  {
   "cell_type": "code",
   "execution_count": 69,
   "id": "6615289e",
   "metadata": {},
   "outputs": [
    {
     "data": {
      "text/html": [
       "<div>\n",
       "<style scoped>\n",
       "    .dataframe tbody tr th:only-of-type {\n",
       "        vertical-align: middle;\n",
       "    }\n",
       "\n",
       "    .dataframe tbody tr th {\n",
       "        vertical-align: top;\n",
       "    }\n",
       "\n",
       "    .dataframe thead th {\n",
       "        text-align: right;\n",
       "    }\n",
       "</style>\n",
       "<table border=\"1\" class=\"dataframe\">\n",
       "  <thead>\n",
       "    <tr style=\"text-align: right;\">\n",
       "      <th></th>\n",
       "      <th>sl_no</th>\n",
       "      <th>gender</th>\n",
       "      <th>ssc_p</th>\n",
       "      <th>ssc_b</th>\n",
       "      <th>hsc_p</th>\n",
       "      <th>hsc_b</th>\n",
       "      <th>hsc_s</th>\n",
       "      <th>degree_p</th>\n",
       "      <th>degree_t</th>\n",
       "      <th>workex</th>\n",
       "      <th>etest_p</th>\n",
       "      <th>specialisation</th>\n",
       "      <th>mba_p</th>\n",
       "      <th>status</th>\n",
       "      <th>salary</th>\n",
       "    </tr>\n",
       "  </thead>\n",
       "  <tbody>\n",
       "    <tr>\n",
       "      <th>5</th>\n",
       "      <td>6</td>\n",
       "      <td>1</td>\n",
       "      <td>55.0</td>\n",
       "      <td>1</td>\n",
       "      <td>49.8</td>\n",
       "      <td>1</td>\n",
       "      <td>2</td>\n",
       "      <td>67.25</td>\n",
       "      <td>2</td>\n",
       "      <td>1</td>\n",
       "      <td>55.0</td>\n",
       "      <td>0</td>\n",
       "      <td>51.58</td>\n",
       "      <td>0</td>\n",
       "      <td>288655.405405</td>\n",
       "    </tr>\n",
       "  </tbody>\n",
       "</table>\n",
       "</div>"
      ],
      "text/plain": [
       "   sl_no  gender  ssc_p  ssc_b  hsc_p  hsc_b  hsc_s  degree_p  degree_t  \\\n",
       "5      6       1   55.0      1   49.8      1      2     67.25         2   \n",
       "\n",
       "   workex  etest_p  specialisation  mba_p  status         salary  \n",
       "5       1     55.0               0  51.58       0  288655.405405  "
      ]
     },
     "execution_count": 69,
     "metadata": {},
     "output_type": "execute_result"
    }
   ],
   "source": [
    "df.iloc[5:6]\n"
   ]
  },
  {
   "cell_type": "code",
   "execution_count": 65,
   "id": "6aef53a0",
   "metadata": {},
   "outputs": [],
   "source": [
    "import joblib\n",
    "\n",
    "joblib.dump(rf,open(\"student_placement_v1.0.model\",\"wb\"))\n",
    "joblib.dump(le,open(\"student_placement_v1.0.encoder\",\"wb\"))\n"
   ]
  },
  {
   "cell_type": "code",
   "execution_count": 67,
   "id": "4395412f",
   "metadata": {},
   "outputs": [],
   "source": [
    "model1= joblib.load(open(\"student_placement_v1.0.model\",\"rb\"))\n",
    "encoder=joblib.load(open(\"student_placement_v1.0.encoder\",\"rb\"))"
   ]
  },
  {
   "cell_type": "code",
   "execution_count": 73,
   "id": "9d9b0714",
   "metadata": {},
   "outputs": [
    {
     "data": {
      "text/html": [
       "<div>\n",
       "<style scoped>\n",
       "    .dataframe tbody tr th:only-of-type {\n",
       "        vertical-align: middle;\n",
       "    }\n",
       "\n",
       "    .dataframe tbody tr th {\n",
       "        vertical-align: top;\n",
       "    }\n",
       "\n",
       "    .dataframe thead th {\n",
       "        text-align: right;\n",
       "    }\n",
       "</style>\n",
       "<table border=\"1\" class=\"dataframe\">\n",
       "  <thead>\n",
       "    <tr style=\"text-align: right;\">\n",
       "      <th></th>\n",
       "      <th>Gender</th>\n",
       "      <th>Specialisation</th>\n",
       "      <th>Techinal Degree</th>\n",
       "      <th>Work Experience</th>\n",
       "      <th>SSC_p</th>\n",
       "      <th>High School_p</th>\n",
       "      <th>Degree_p</th>\n",
       "      <th>MBA_p</th>\n",
       "    </tr>\n",
       "  </thead>\n",
       "  <tbody>\n",
       "    <tr>\n",
       "      <th>5</th>\n",
       "      <td>1</td>\n",
       "      <td>0</td>\n",
       "      <td>2</td>\n",
       "      <td>1</td>\n",
       "      <td>55.0</td>\n",
       "      <td>49.8</td>\n",
       "      <td>67.25</td>\n",
       "      <td>51.58</td>\n",
       "    </tr>\n",
       "  </tbody>\n",
       "</table>\n",
       "</div>"
      ],
      "text/plain": [
       "   Gender  Specialisation  Techinal Degree  Work Experience  SSC_p  \\\n",
       "5       1               0                2                1   55.0   \n",
       "\n",
       "   High School_p  Degree_p  MBA_p  \n",
       "5           49.8     67.25  51.58  "
      ]
     },
     "execution_count": 73,
     "metadata": {},
     "output_type": "execute_result"
    }
   ],
   "source": [
    "my_data=train.iloc[5:6]\n",
    "my_data\n"
   ]
  },
  {
   "cell_type": "code",
   "execution_count": 74,
   "id": "b46dbcee",
   "metadata": {},
   "outputs": [
    {
     "data": {
      "text/plain": [
       "array([0])"
      ]
     },
     "execution_count": 74,
     "metadata": {},
     "output_type": "execute_result"
    }
   ],
   "source": [
    "model1.predict(my_data)\n"
   ]
  },
  {
   "attachments": {},
   "cell_type": "markdown",
   "id": "0d41be1a",
   "metadata": {},
   "source": [
    "## Probability prediction for student getting placed"
   ]
  },
  {
   "cell_type": "code",
   "execution_count": 77,
   "id": "bc9d70bd",
   "metadata": {},
   "outputs": [
    {
     "data": {
      "text/plain": [
       "[array([1]),\n",
       " array([1]),\n",
       " array([1]),\n",
       " array([0]),\n",
       " array([1]),\n",
       " array([0]),\n",
       " array([0]),\n",
       " array([1]),\n",
       " array([1]),\n",
       " array([1]),\n",
       " array([1]),\n",
       " array([1]),\n",
       " array([0]),\n",
       " array([1]),\n",
       " array([0]),\n",
       " array([1]),\n",
       " array([1]),\n",
       " array([0]),\n",
       " array([0]),\n",
       " array([1]),\n",
       " array([1]),\n",
       " array([1]),\n",
       " array([1]),\n",
       " array([1]),\n",
       " array([1]),\n",
       " array([0]),\n",
       " array([1]),\n",
       " array([1]),\n",
       " array([1]),\n",
       " array([0]),\n",
       " array([1]),\n",
       " array([0]),\n",
       " array([1]),\n",
       " array([1]),\n",
       " array([0]),\n",
       " array([1]),\n",
       " array([0]),\n",
       " array([1]),\n",
       " array([1]),\n",
       " array([1]),\n",
       " array([1]),\n",
       " array([0]),\n",
       " array([0]),\n",
       " array([1]),\n",
       " array([1]),\n",
       " array([1]),\n",
       " array([0]),\n",
       " array([1]),\n",
       " array([1]),\n",
       " array([0]),\n",
       " array([1]),\n",
       " array([0]),\n",
       " array([0]),\n",
       " array([1]),\n",
       " array([1]),\n",
       " array([1]),\n",
       " array([1]),\n",
       " array([1]),\n",
       " array([1]),\n",
       " array([1]),\n",
       " array([1]),\n",
       " array([1]),\n",
       " array([1]),\n",
       " array([0]),\n",
       " array([1]),\n",
       " array([0]),\n",
       " array([1]),\n",
       " array([1]),\n",
       " array([0]),\n",
       " array([1]),\n",
       " array([1]),\n",
       " array([1]),\n",
       " array([1]),\n",
       " array([1]),\n",
       " array([1]),\n",
       " array([1]),\n",
       " array([1]),\n",
       " array([1]),\n",
       " array([1]),\n",
       " array([0]),\n",
       " array([1]),\n",
       " array([1]),\n",
       " array([0]),\n",
       " array([1]),\n",
       " array([1]),\n",
       " array([1]),\n",
       " array([1]),\n",
       " array([0]),\n",
       " array([1]),\n",
       " array([1]),\n",
       " array([1]),\n",
       " array([0]),\n",
       " array([1]),\n",
       " array([0]),\n",
       " array([1]),\n",
       " array([1]),\n",
       " array([1]),\n",
       " array([0]),\n",
       " array([1]),\n",
       " array([0]),\n",
       " array([0]),\n",
       " array([1]),\n",
       " array([1]),\n",
       " array([1]),\n",
       " array([1]),\n",
       " array([0]),\n",
       " array([0]),\n",
       " array([1]),\n",
       " array([1]),\n",
       " array([0]),\n",
       " array([1]),\n",
       " array([0]),\n",
       " array([1]),\n",
       " array([1]),\n",
       " array([1]),\n",
       " array([1]),\n",
       " array([1]),\n",
       " array([1]),\n",
       " array([1]),\n",
       " array([1]),\n",
       " array([0]),\n",
       " array([1]),\n",
       " array([1]),\n",
       " array([1]),\n",
       " array([1]),\n",
       " array([1]),\n",
       " array([1]),\n",
       " array([1]),\n",
       " array([1]),\n",
       " array([1]),\n",
       " array([0]),\n",
       " array([1]),\n",
       " array([1]),\n",
       " array([1]),\n",
       " array([1]),\n",
       " array([1]),\n",
       " array([0]),\n",
       " array([1]),\n",
       " array([1]),\n",
       " array([1]),\n",
       " array([1]),\n",
       " array([0]),\n",
       " array([1]),\n",
       " array([1]),\n",
       " array([0]),\n",
       " array([1]),\n",
       " array([1]),\n",
       " array([1]),\n",
       " array([1]),\n",
       " array([0]),\n",
       " array([1]),\n",
       " array([1]),\n",
       " array([1]),\n",
       " array([1]),\n",
       " array([0]),\n",
       " array([0]),\n",
       " array([1]),\n",
       " array([1]),\n",
       " array([1]),\n",
       " array([0]),\n",
       " array([1]),\n",
       " array([0]),\n",
       " array([1]),\n",
       " array([1]),\n",
       " array([1]),\n",
       " array([0]),\n",
       " array([1]),\n",
       " array([1]),\n",
       " array([0]),\n",
       " array([0]),\n",
       " array([0]),\n",
       " array([1]),\n",
       " array([1]),\n",
       " array([0]),\n",
       " array([1]),\n",
       " array([0]),\n",
       " array([1]),\n",
       " array([1]),\n",
       " array([1]),\n",
       " array([0]),\n",
       " array([1]),\n",
       " array([0]),\n",
       " array([0]),\n",
       " array([1]),\n",
       " array([0]),\n",
       " array([1]),\n",
       " array([0]),\n",
       " array([1]),\n",
       " array([0]),\n",
       " array([0]),\n",
       " array([1]),\n",
       " array([1]),\n",
       " array([1]),\n",
       " array([1]),\n",
       " array([0]),\n",
       " array([1]),\n",
       " array([1]),\n",
       " array([1]),\n",
       " array([0]),\n",
       " array([1]),\n",
       " array([1]),\n",
       " array([0]),\n",
       " array([1]),\n",
       " array([0]),\n",
       " array([1]),\n",
       " array([1]),\n",
       " array([0]),\n",
       " array([1]),\n",
       " array([0]),\n",
       " array([1]),\n",
       " array([1]),\n",
       " array([1]),\n",
       " array([1]),\n",
       " array([1]),\n",
       " array([0])]"
      ]
     },
     "execution_count": 77,
     "metadata": {},
     "output_type": "execute_result"
    }
   ],
   "source": [
    "traindata = np.array(train)\n",
    "predicted = []\n",
    "for i in range(len(traindata)):\n",
    "    predicted.append(rf.predict([traindata[i]]))\n",
    "    \n",
    "predicted"
   ]
  },
  {
   "cell_type": "code",
   "execution_count": 79,
   "id": "8c9af8ca",
   "metadata": {},
   "outputs": [
    {
     "data": {
      "text/html": [
       "<div>\n",
       "<style scoped>\n",
       "    .dataframe tbody tr th:only-of-type {\n",
       "        vertical-align: middle;\n",
       "    }\n",
       "\n",
       "    .dataframe tbody tr th {\n",
       "        vertical-align: top;\n",
       "    }\n",
       "\n",
       "    .dataframe thead th {\n",
       "        text-align: right;\n",
       "    }\n",
       "</style>\n",
       "<table border=\"1\" class=\"dataframe\">\n",
       "  <thead>\n",
       "    <tr style=\"text-align: right;\">\n",
       "      <th></th>\n",
       "      <th>Gender</th>\n",
       "      <th>Specialisation</th>\n",
       "      <th>Techinal Degree</th>\n",
       "      <th>Work Experience</th>\n",
       "      <th>SSC_p</th>\n",
       "      <th>High School_p</th>\n",
       "      <th>Degree_p</th>\n",
       "      <th>MBA_p</th>\n",
       "      <th>Actual</th>\n",
       "      <th>Predicted</th>\n",
       "    </tr>\n",
       "  </thead>\n",
       "  <tbody>\n",
       "    <tr>\n",
       "      <th>0</th>\n",
       "      <td>1</td>\n",
       "      <td>1</td>\n",
       "      <td>2</td>\n",
       "      <td>0</td>\n",
       "      <td>67.00</td>\n",
       "      <td>91.00</td>\n",
       "      <td>58.00</td>\n",
       "      <td>58.80</td>\n",
       "      <td>1</td>\n",
       "      <td>1</td>\n",
       "    </tr>\n",
       "    <tr>\n",
       "      <th>1</th>\n",
       "      <td>1</td>\n",
       "      <td>0</td>\n",
       "      <td>2</td>\n",
       "      <td>1</td>\n",
       "      <td>79.33</td>\n",
       "      <td>78.33</td>\n",
       "      <td>77.48</td>\n",
       "      <td>66.28</td>\n",
       "      <td>1</td>\n",
       "      <td>1</td>\n",
       "    </tr>\n",
       "    <tr>\n",
       "      <th>2</th>\n",
       "      <td>1</td>\n",
       "      <td>0</td>\n",
       "      <td>0</td>\n",
       "      <td>0</td>\n",
       "      <td>65.00</td>\n",
       "      <td>68.00</td>\n",
       "      <td>64.00</td>\n",
       "      <td>57.80</td>\n",
       "      <td>1</td>\n",
       "      <td>1</td>\n",
       "    </tr>\n",
       "    <tr>\n",
       "      <th>3</th>\n",
       "      <td>1</td>\n",
       "      <td>1</td>\n",
       "      <td>2</td>\n",
       "      <td>0</td>\n",
       "      <td>56.00</td>\n",
       "      <td>52.00</td>\n",
       "      <td>52.00</td>\n",
       "      <td>59.43</td>\n",
       "      <td>0</td>\n",
       "      <td>0</td>\n",
       "    </tr>\n",
       "    <tr>\n",
       "      <th>4</th>\n",
       "      <td>1</td>\n",
       "      <td>0</td>\n",
       "      <td>0</td>\n",
       "      <td>0</td>\n",
       "      <td>85.80</td>\n",
       "      <td>73.60</td>\n",
       "      <td>73.30</td>\n",
       "      <td>55.50</td>\n",
       "      <td>1</td>\n",
       "      <td>1</td>\n",
       "    </tr>\n",
       "  </tbody>\n",
       "</table>\n",
       "</div>"
      ],
      "text/plain": [
       "   Gender  Specialisation  Techinal Degree  Work Experience  SSC_p  \\\n",
       "0       1               1                2                0  67.00   \n",
       "1       1               0                2                1  79.33   \n",
       "2       1               0                0                0  65.00   \n",
       "3       1               1                2                0  56.00   \n",
       "4       1               0                0                0  85.80   \n",
       "\n",
       "   High School_p  Degree_p  MBA_p  Actual  Predicted  \n",
       "0          91.00     58.00  58.80       1          1  \n",
       "1          78.33     77.48  66.28       1          1  \n",
       "2          68.00     64.00  57.80       1          1  \n",
       "3          52.00     52.00  59.43       0          0  \n",
       "4          73.60     73.30  55.50       1          1  "
      ]
     },
     "execution_count": 79,
     "metadata": {},
     "output_type": "execute_result"
    }
   ],
   "source": [
    "resultdf = train.copy()\n",
    "resultdf['Actual'] = np.array(y)\n",
    "resultdf['Predicted'] = np.array(predicted)\n",
    "resultdf.head()"
   ]
  },
  {
   "cell_type": "code",
   "execution_count": 80,
   "id": "9ed98c18",
   "metadata": {},
   "outputs": [
    {
     "data": {
      "text/plain": [
       "1    148\n",
       "0     67\n",
       "Name: Actual, dtype: int64"
      ]
     },
     "execution_count": 80,
     "metadata": {},
     "output_type": "execute_result"
    }
   ],
   "source": [
    "resultdf['Actual'].value_counts()"
   ]
  },
  {
   "cell_type": "code",
   "execution_count": 81,
   "id": "0b51a6fb",
   "metadata": {},
   "outputs": [
    {
     "data": {
      "text/plain": [
       "1    152\n",
       "0     63\n",
       "Name: Predicted, dtype: int64"
      ]
     },
     "execution_count": 81,
     "metadata": {},
     "output_type": "execute_result"
    }
   ],
   "source": [
    "resultdf['Predicted'].value_counts()"
   ]
  },
  {
   "cell_type": "code",
   "execution_count": 82,
   "id": "b1b94736",
   "metadata": {},
   "outputs": [
    {
     "data": {
      "text/plain": [
       "{'gender': {'F': 0, 'M': 1},\n",
       " 'ssc_b': {'Central': 0, 'Others': 1},\n",
       " 'hsc_b': {'Central': 0, 'Others': 1},\n",
       " 'hsc_s': {'Arts': 0, 'Commerce': 1, 'Science': 2},\n",
       " 'degree_t': {'Comm&Mgmt': 0, 'Others': 1, 'Sci&Tech': 2},\n",
       " 'workex': {'No': 0, 'Yes': 1},\n",
       " 'specialisation': {'Mkt&Fin': 0, 'Mkt&HR': 1},\n",
       " 'status': {'Not Placed': 0, 'Placed': 1}}"
      ]
     },
     "execution_count": 82,
     "metadata": {},
     "output_type": "execute_result"
    }
   ],
   "source": [
    "getmappings"
   ]
  },
  {
   "attachments": {},
   "cell_type": "markdown",
   "id": "7d152fbd",
   "metadata": {},
   "source": [
    "### Predicted Probability"
   ]
  },
  {
   "cell_type": "code",
   "execution_count": 83,
   "id": "8bf9714a",
   "metadata": {},
   "outputs": [
    {
     "data": {
      "text/plain": [
       "[array([[0.16, 0.84]]),\n",
       " array([[0., 1.]]),\n",
       " array([[0.05, 0.95]]),\n",
       " array([[1., 0.]]),\n",
       " array([[0., 1.]]),\n",
       " array([[0.9, 0.1]]),\n",
       " array([[0.86, 0.14]]),\n",
       " array([[0.01, 0.99]]),\n",
       " array([[0.01, 0.99]]),\n",
       " array([[0.35, 0.65]]),\n",
       " array([[0.19, 0.81]]),\n",
       " array([[0.01, 0.99]]),\n",
       " array([[0.89, 0.11]]),\n",
       " array([[0.24, 0.76]]),\n",
       " array([[0.93, 0.07]]),\n",
       " array([[0.01, 0.99]]),\n",
       " array([[0.03, 0.97]]),\n",
       " array([[0.69, 0.31]]),\n",
       " array([[0.8, 0.2]]),\n",
       " array([[0.21, 0.79]]),\n",
       " array([[0.14, 0.86]]),\n",
       " array([[0.08, 0.92]]),\n",
       " array([[0.14, 0.86]]),\n",
       " array([[0.06, 0.94]]),\n",
       " array([[0.02, 0.98]]),\n",
       " array([[0.94, 0.06]]),\n",
       " array([[0., 1.]]),\n",
       " array([[0.12, 0.88]]),\n",
       " array([[0.01, 0.99]]),\n",
       " array([[0.75, 0.25]]),\n",
       " array([[0.03, 0.97]]),\n",
       " array([[0.77, 0.23]]),\n",
       " array([[0.1, 0.9]]),\n",
       " array([[0.03, 0.97]]),\n",
       " array([[0.99, 0.01]]),\n",
       " array([[0.02, 0.98]]),\n",
       " array([[0.99, 0.01]]),\n",
       " array([[0.06, 0.94]]),\n",
       " array([[0.1, 0.9]]),\n",
       " array([[0.05, 0.95]]),\n",
       " array([[0.11, 0.89]]),\n",
       " array([[0.72, 0.28]]),\n",
       " array([[0.93, 0.07]]),\n",
       " array([[0., 1.]]),\n",
       " array([[0., 1.]]),\n",
       " array([[0.12, 0.88]]),\n",
       " array([[0.76, 0.24]]),\n",
       " array([[0.09, 0.91]]),\n",
       " array([[0.1, 0.9]]),\n",
       " array([[0.98, 0.02]]),\n",
       " array([[0., 1.]]),\n",
       " array([[0.95, 0.05]]),\n",
       " array([[0.97, 0.03]]),\n",
       " array([[0.03, 0.97]]),\n",
       " array([[0.03, 0.97]]),\n",
       " array([[0.08, 0.92]]),\n",
       " array([[0.21, 0.79]]),\n",
       " array([[0.02, 0.98]]),\n",
       " array([[0., 1.]]),\n",
       " array([[0.24, 0.76]]),\n",
       " array([[0., 1.]]),\n",
       " array([[0., 1.]]),\n",
       " array([[0.11, 0.89]]),\n",
       " array([[0.72, 0.28]]),\n",
       " array([[0., 1.]]),\n",
       " array([[0.98, 0.02]]),\n",
       " array([[0.01, 0.99]]),\n",
       " array([[0.01, 0.99]]),\n",
       " array([[0.81, 0.19]]),\n",
       " array([[0.01, 0.99]]),\n",
       " array([[0.1, 0.9]]),\n",
       " array([[0.01, 0.99]]),\n",
       " array([[0.04, 0.96]]),\n",
       " array([[0.01, 0.99]]),\n",
       " array([[0.23, 0.77]]),\n",
       " array([[0.35, 0.65]]),\n",
       " array([[0., 1.]]),\n",
       " array([[0.04, 0.96]]),\n",
       " array([[0.04, 0.96]]),\n",
       " array([[0.64, 0.36]]),\n",
       " array([[0.05, 0.95]]),\n",
       " array([[0.01, 0.99]]),\n",
       " array([[0.68, 0.32]]),\n",
       " array([[0.01, 0.99]]),\n",
       " array([[0.01, 0.99]]),\n",
       " array([[0.07, 0.93]]),\n",
       " array([[0.05, 0.95]]),\n",
       " array([[0.95, 0.05]]),\n",
       " array([[0.19, 0.81]]),\n",
       " array([[0., 1.]]),\n",
       " array([[0.07, 0.93]]),\n",
       " array([[0.97, 0.03]]),\n",
       " array([[0.08, 0.92]]),\n",
       " array([[0.93, 0.07]]),\n",
       " array([[0.05, 0.95]]),\n",
       " array([[0.01, 0.99]]),\n",
       " array([[0., 1.]]),\n",
       " array([[0.69, 0.31]]),\n",
       " array([[0.01, 0.99]]),\n",
       " array([[0.78, 0.22]]),\n",
       " array([[0.92, 0.08]]),\n",
       " array([[0.08, 0.92]]),\n",
       " array([[0., 1.]]),\n",
       " array([[0.01, 0.99]]),\n",
       " array([[0.09, 0.91]]),\n",
       " array([[0.77, 0.23]]),\n",
       " array([[0.96, 0.04]]),\n",
       " array([[0.01, 0.99]]),\n",
       " array([[0.1, 0.9]]),\n",
       " array([[0.82, 0.18]]),\n",
       " array([[0.05, 0.95]]),\n",
       " array([[0.99, 0.01]]),\n",
       " array([[0.15, 0.85]]),\n",
       " array([[0.01, 0.99]]),\n",
       " array([[0.03, 0.97]]),\n",
       " array([[0.14, 0.86]]),\n",
       " array([[0., 1.]]),\n",
       " array([[0., 1.]]),\n",
       " array([[0.01, 0.99]]),\n",
       " array([[0.06, 0.94]]),\n",
       " array([[0.96, 0.04]]),\n",
       " array([[0.11, 0.89]]),\n",
       " array([[0.02, 0.98]]),\n",
       " array([[0.07, 0.93]]),\n",
       " array([[0.04, 0.96]]),\n",
       " array([[0.12, 0.88]]),\n",
       " array([[0., 1.]]),\n",
       " array([[0.03, 0.97]]),\n",
       " array([[0.05, 0.95]]),\n",
       " array([[0.02, 0.98]]),\n",
       " array([[0.77, 0.23]]),\n",
       " array([[0.3, 0.7]]),\n",
       " array([[0.04, 0.96]]),\n",
       " array([[0.03, 0.97]]),\n",
       " array([[0., 1.]]),\n",
       " array([[0.07, 0.93]]),\n",
       " array([[0.67, 0.33]]),\n",
       " array([[0.04, 0.96]]),\n",
       " array([[0.03, 0.97]]),\n",
       " array([[0.04, 0.96]]),\n",
       " array([[0., 1.]]),\n",
       " array([[0.85, 0.15]]),\n",
       " array([[0., 1.]]),\n",
       " array([[0.05, 0.95]]),\n",
       " array([[0.94, 0.06]]),\n",
       " array([[0.01, 0.99]]),\n",
       " array([[0.18, 0.82]]),\n",
       " array([[0.01, 0.99]]),\n",
       " array([[0.1, 0.9]]),\n",
       " array([[0.97, 0.03]]),\n",
       " array([[0.11, 0.89]]),\n",
       " array([[0.13, 0.87]]),\n",
       " array([[0.08, 0.92]]),\n",
       " array([[0.29, 0.71]]),\n",
       " array([[0.71, 0.29]]),\n",
       " array([[0.89, 0.11]]),\n",
       " array([[0.01, 0.99]]),\n",
       " array([[0.14, 0.86]]),\n",
       " array([[0.17, 0.83]]),\n",
       " array([[1., 0.]]),\n",
       " array([[0.1, 0.9]]),\n",
       " array([[1., 0.]]),\n",
       " array([[0., 1.]]),\n",
       " array([[0.19, 0.81]]),\n",
       " array([[0.08, 0.92]]),\n",
       " array([[0.73, 0.27]]),\n",
       " array([[0.05, 0.95]]),\n",
       " array([[0.1, 0.9]]),\n",
       " array([[0.92, 0.08]]),\n",
       " array([[0.97, 0.03]]),\n",
       " array([[0.91, 0.09]]),\n",
       " array([[0., 1.]]),\n",
       " array([[0.12, 0.88]]),\n",
       " array([[0.99, 0.01]]),\n",
       " array([[0.39, 0.61]]),\n",
       " array([[0.8, 0.2]]),\n",
       " array([[0.23, 0.77]]),\n",
       " array([[0., 1.]]),\n",
       " array([[0.12, 0.88]]),\n",
       " array([[0.8, 0.2]]),\n",
       " array([[0.01, 0.99]]),\n",
       " array([[0.85, 0.15]]),\n",
       " array([[0.83, 0.17]]),\n",
       " array([[0.01, 0.99]]),\n",
       " array([[0.78, 0.22]]),\n",
       " array([[0.09, 0.91]]),\n",
       " array([[0.89, 0.11]]),\n",
       " array([[0., 1.]]),\n",
       " array([[0.96, 0.04]]),\n",
       " array([[0.78, 0.22]]),\n",
       " array([[0.36, 0.64]]),\n",
       " array([[0.03, 0.97]]),\n",
       " array([[0.01, 0.99]]),\n",
       " array([[0.16, 0.84]]),\n",
       " array([[0.94, 0.06]]),\n",
       " array([[0.03, 0.97]]),\n",
       " array([[0.02, 0.98]]),\n",
       " array([[0.13, 0.87]]),\n",
       " array([[0.89, 0.11]]),\n",
       " array([[0.09, 0.91]]),\n",
       " array([[0.03, 0.97]]),\n",
       " array([[0.98, 0.02]]),\n",
       " array([[0.13, 0.87]]),\n",
       " array([[0.93, 0.07]]),\n",
       " array([[0., 1.]]),\n",
       " array([[0.02, 0.98]]),\n",
       " array([[0.94, 0.06]]),\n",
       " array([[0.09, 0.91]]),\n",
       " array([[0.74, 0.26]]),\n",
       " array([[0.01, 0.99]]),\n",
       " array([[0.04, 0.96]]),\n",
       " array([[0.23, 0.77]]),\n",
       " array([[0.03, 0.97]]),\n",
       " array([[0.1, 0.9]]),\n",
       " array([[0.88, 0.12]])]"
      ]
     },
     "execution_count": 83,
     "metadata": {},
     "output_type": "execute_result"
    }
   ],
   "source": [
    "traindata = np.array(train)\n",
    "predicted = []\n",
    "for i in range(len(traindata)):\n",
    "    predicted.append(rf.predict_proba([traindata[i]]))\n",
    "    \n",
    "predicted"
   ]
  },
  {
   "cell_type": "code",
   "execution_count": 84,
   "id": "cb53622a",
   "metadata": {},
   "outputs": [
    {
     "data": {
      "text/plain": [
       "(array([0.16, 0.84]), 0.16, 0.84)"
      ]
     },
     "execution_count": 84,
     "metadata": {},
     "output_type": "execute_result"
    }
   ],
   "source": [
    "predicted[0][0],predicted[0][0][0],predicted[0][0][1]"
   ]
  },
  {
   "cell_type": "code",
   "execution_count": 85,
   "id": "42c129b6",
   "metadata": {},
   "outputs": [
    {
     "data": {
      "text/html": [
       "<div>\n",
       "<style scoped>\n",
       "    .dataframe tbody tr th:only-of-type {\n",
       "        vertical-align: middle;\n",
       "    }\n",
       "\n",
       "    .dataframe tbody tr th {\n",
       "        vertical-align: top;\n",
       "    }\n",
       "\n",
       "    .dataframe thead th {\n",
       "        text-align: right;\n",
       "    }\n",
       "</style>\n",
       "<table border=\"1\" class=\"dataframe\">\n",
       "  <thead>\n",
       "    <tr style=\"text-align: right;\">\n",
       "      <th></th>\n",
       "      <th>Gender</th>\n",
       "      <th>Specialisation</th>\n",
       "      <th>Techinal Degree</th>\n",
       "      <th>Work Experience</th>\n",
       "      <th>SSC_p</th>\n",
       "      <th>High School_p</th>\n",
       "      <th>Degree_p</th>\n",
       "      <th>MBA_p</th>\n",
       "      <th>Actual</th>\n",
       "      <th>Predicted</th>\n",
       "      <th>Prob_not_getting_placed</th>\n",
       "      <th>Prob_getting_placed</th>\n",
       "    </tr>\n",
       "  </thead>\n",
       "  <tbody>\n",
       "    <tr>\n",
       "      <th>0</th>\n",
       "      <td>1</td>\n",
       "      <td>1</td>\n",
       "      <td>2</td>\n",
       "      <td>0</td>\n",
       "      <td>67.00</td>\n",
       "      <td>91.00</td>\n",
       "      <td>58.00</td>\n",
       "      <td>58.80</td>\n",
       "      <td>1</td>\n",
       "      <td>1</td>\n",
       "      <td>0.16</td>\n",
       "      <td>0.84</td>\n",
       "    </tr>\n",
       "    <tr>\n",
       "      <th>1</th>\n",
       "      <td>1</td>\n",
       "      <td>0</td>\n",
       "      <td>2</td>\n",
       "      <td>1</td>\n",
       "      <td>79.33</td>\n",
       "      <td>78.33</td>\n",
       "      <td>77.48</td>\n",
       "      <td>66.28</td>\n",
       "      <td>1</td>\n",
       "      <td>1</td>\n",
       "      <td>0.00</td>\n",
       "      <td>1.00</td>\n",
       "    </tr>\n",
       "    <tr>\n",
       "      <th>2</th>\n",
       "      <td>1</td>\n",
       "      <td>0</td>\n",
       "      <td>0</td>\n",
       "      <td>0</td>\n",
       "      <td>65.00</td>\n",
       "      <td>68.00</td>\n",
       "      <td>64.00</td>\n",
       "      <td>57.80</td>\n",
       "      <td>1</td>\n",
       "      <td>1</td>\n",
       "      <td>0.05</td>\n",
       "      <td>0.95</td>\n",
       "    </tr>\n",
       "    <tr>\n",
       "      <th>3</th>\n",
       "      <td>1</td>\n",
       "      <td>1</td>\n",
       "      <td>2</td>\n",
       "      <td>0</td>\n",
       "      <td>56.00</td>\n",
       "      <td>52.00</td>\n",
       "      <td>52.00</td>\n",
       "      <td>59.43</td>\n",
       "      <td>0</td>\n",
       "      <td>0</td>\n",
       "      <td>1.00</td>\n",
       "      <td>0.00</td>\n",
       "    </tr>\n",
       "    <tr>\n",
       "      <th>4</th>\n",
       "      <td>1</td>\n",
       "      <td>0</td>\n",
       "      <td>0</td>\n",
       "      <td>0</td>\n",
       "      <td>85.80</td>\n",
       "      <td>73.60</td>\n",
       "      <td>73.30</td>\n",
       "      <td>55.50</td>\n",
       "      <td>1</td>\n",
       "      <td>1</td>\n",
       "      <td>0.00</td>\n",
       "      <td>1.00</td>\n",
       "    </tr>\n",
       "    <tr>\n",
       "      <th>...</th>\n",
       "      <td>...</td>\n",
       "      <td>...</td>\n",
       "      <td>...</td>\n",
       "      <td>...</td>\n",
       "      <td>...</td>\n",
       "      <td>...</td>\n",
       "      <td>...</td>\n",
       "      <td>...</td>\n",
       "      <td>...</td>\n",
       "      <td>...</td>\n",
       "      <td>...</td>\n",
       "      <td>...</td>\n",
       "    </tr>\n",
       "    <tr>\n",
       "      <th>210</th>\n",
       "      <td>1</td>\n",
       "      <td>0</td>\n",
       "      <td>0</td>\n",
       "      <td>0</td>\n",
       "      <td>80.60</td>\n",
       "      <td>82.00</td>\n",
       "      <td>77.60</td>\n",
       "      <td>74.49</td>\n",
       "      <td>1</td>\n",
       "      <td>1</td>\n",
       "      <td>0.04</td>\n",
       "      <td>0.96</td>\n",
       "    </tr>\n",
       "    <tr>\n",
       "      <th>211</th>\n",
       "      <td>1</td>\n",
       "      <td>0</td>\n",
       "      <td>2</td>\n",
       "      <td>0</td>\n",
       "      <td>58.00</td>\n",
       "      <td>60.00</td>\n",
       "      <td>72.00</td>\n",
       "      <td>53.62</td>\n",
       "      <td>1</td>\n",
       "      <td>1</td>\n",
       "      <td>0.23</td>\n",
       "      <td>0.77</td>\n",
       "    </tr>\n",
       "    <tr>\n",
       "      <th>212</th>\n",
       "      <td>1</td>\n",
       "      <td>0</td>\n",
       "      <td>0</td>\n",
       "      <td>1</td>\n",
       "      <td>67.00</td>\n",
       "      <td>67.00</td>\n",
       "      <td>73.00</td>\n",
       "      <td>69.72</td>\n",
       "      <td>1</td>\n",
       "      <td>1</td>\n",
       "      <td>0.03</td>\n",
       "      <td>0.97</td>\n",
       "    </tr>\n",
       "    <tr>\n",
       "      <th>213</th>\n",
       "      <td>0</td>\n",
       "      <td>1</td>\n",
       "      <td>0</td>\n",
       "      <td>0</td>\n",
       "      <td>74.00</td>\n",
       "      <td>66.00</td>\n",
       "      <td>58.00</td>\n",
       "      <td>60.23</td>\n",
       "      <td>1</td>\n",
       "      <td>1</td>\n",
       "      <td>0.10</td>\n",
       "      <td>0.90</td>\n",
       "    </tr>\n",
       "    <tr>\n",
       "      <th>214</th>\n",
       "      <td>1</td>\n",
       "      <td>1</td>\n",
       "      <td>0</td>\n",
       "      <td>0</td>\n",
       "      <td>62.00</td>\n",
       "      <td>58.00</td>\n",
       "      <td>53.00</td>\n",
       "      <td>60.22</td>\n",
       "      <td>0</td>\n",
       "      <td>0</td>\n",
       "      <td>0.88</td>\n",
       "      <td>0.12</td>\n",
       "    </tr>\n",
       "  </tbody>\n",
       "</table>\n",
       "<p>215 rows × 12 columns</p>\n",
       "</div>"
      ],
      "text/plain": [
       "     Gender  Specialisation  Techinal Degree  Work Experience  SSC_p  \\\n",
       "0         1               1                2                0  67.00   \n",
       "1         1               0                2                1  79.33   \n",
       "2         1               0                0                0  65.00   \n",
       "3         1               1                2                0  56.00   \n",
       "4         1               0                0                0  85.80   \n",
       "..      ...             ...              ...              ...    ...   \n",
       "210       1               0                0                0  80.60   \n",
       "211       1               0                2                0  58.00   \n",
       "212       1               0                0                1  67.00   \n",
       "213       0               1                0                0  74.00   \n",
       "214       1               1                0                0  62.00   \n",
       "\n",
       "     High School_p  Degree_p  MBA_p  Actual  Predicted  \\\n",
       "0            91.00     58.00  58.80       1          1   \n",
       "1            78.33     77.48  66.28       1          1   \n",
       "2            68.00     64.00  57.80       1          1   \n",
       "3            52.00     52.00  59.43       0          0   \n",
       "4            73.60     73.30  55.50       1          1   \n",
       "..             ...       ...    ...     ...        ...   \n",
       "210          82.00     77.60  74.49       1          1   \n",
       "211          60.00     72.00  53.62       1          1   \n",
       "212          67.00     73.00  69.72       1          1   \n",
       "213          66.00     58.00  60.23       1          1   \n",
       "214          58.00     53.00  60.22       0          0   \n",
       "\n",
       "     Prob_not_getting_placed  Prob_getting_placed  \n",
       "0                       0.16                 0.84  \n",
       "1                       0.00                 1.00  \n",
       "2                       0.05                 0.95  \n",
       "3                       1.00                 0.00  \n",
       "4                       0.00                 1.00  \n",
       "..                       ...                  ...  \n",
       "210                     0.04                 0.96  \n",
       "211                     0.23                 0.77  \n",
       "212                     0.03                 0.97  \n",
       "213                     0.10                 0.90  \n",
       "214                     0.88                 0.12  \n",
       "\n",
       "[215 rows x 12 columns]"
      ]
     },
     "execution_count": 85,
     "metadata": {},
     "output_type": "execute_result"
    }
   ],
   "source": [
    "resultdf['Prob_not_getting_placed'] = np.array([predicted[i][0][0] for i in range(len(predicted))])\n",
    "resultdf['Prob_getting_placed'] = np.array([predicted[i][0][1] for i in range(len(predicted))])\n",
    "resultdf"
   ]
  },
  {
   "attachments": {},
   "cell_type": "markdown",
   "id": "ae888c1b",
   "metadata": {},
   "source": [
    "### Conclusions\n",
    " + 4 records were missclassified,resulting in the accuracy of 81% on testing data\n",
    " + Random Forest model gave the best results\n"
   ]
  }
 ],
 "metadata": {
  "kernelspec": {
   "display_name": "Python 3 (ipykernel)",
   "language": "python",
   "name": "python3"
  },
  "language_info": {
   "codemirror_mode": {
    "name": "ipython",
    "version": 3
   },
   "file_extension": ".py",
   "mimetype": "text/x-python",
   "name": "python",
   "nbconvert_exporter": "python",
   "pygments_lexer": "ipython3",
   "version": "3.10.9"
  }
 },
 "nbformat": 4,
 "nbformat_minor": 5
}
